{
  "nbformat": 4,
  "nbformat_minor": 0,
  "metadata": {
    "colab": {
      "name": "NewCaseStudy3.ipynb",
      "provenance": [],
      "collapsed_sections": []
    },
    "kernelspec": {
      "name": "python3",
      "display_name": "Python 3"
    },
    "language_info": {
      "name": "python"
    },
    "accelerator": "GPU"
  },
  "cells": [
    {
      "cell_type": "markdown",
      "source": [
        "##intro"
      ],
      "metadata": {
        "id": "qiEC4AQrQLQB"
      }
    },
    {
      "cell_type": "code",
      "execution_count": 1,
      "metadata": {
        "id": "SZ4IpZkNGPZU"
      },
      "outputs": [],
      "source": [
        "# install package\n",
        "\n",
        "import h5py\n",
        "import numpy as np\n",
        "import matplotlib.pylab as py\n",
        "import random\n",
        "import datetime\n",
        "%matplotlib inline\n",
        "\n",
        "import torch\n",
        "import torch.optim as optim\n",
        "\n",
        "import time\n",
        "from torch import nn\n",
        "from torch.autograd import Variable\n",
        "from torch.utils.data import DataLoader\n",
        "import matplotlib.pyplot as plt\n",
        "\n",
        "\n",
        "from numpy import savetxt\n",
        "from numpy import loadtxt"
      ]
    },
    {
      "cell_type": "code",
      "source": [
        "!wget 'https://raw.githubusercontent.com/rcpaffenroth/DS595-Machine-Learning-for-Engineering-and-Science-Applications/main/data/cs3data1.h5'\n",
        "!wget 'https://raw.githubusercontent.com/rcpaffenroth/DS595-Machine-Learning-for-Engineering-and-Science-Applications/main/data/cs3data2.h5'"
      ],
      "metadata": {
        "colab": {
          "base_uri": "https://localhost:8080/"
        },
        "id": "hb-PDoPKJyTe",
        "outputId": "853c93fe-94eb-4234-cbbb-7d21f800a36e"
      },
      "execution_count": 2,
      "outputs": [
        {
          "output_type": "stream",
          "name": "stdout",
          "text": [
            "--2022-03-31 19:16:51--  https://raw.githubusercontent.com/rcpaffenroth/DS595-Machine-Learning-for-Engineering-and-Science-Applications/main/data/cs3data1.h5\n",
            "Resolving raw.githubusercontent.com (raw.githubusercontent.com)... 185.199.109.133, 185.199.108.133, 185.199.111.133, ...\n",
            "Connecting to raw.githubusercontent.com (raw.githubusercontent.com)|185.199.109.133|:443... connected.\n",
            "HTTP request sent, awaiting response... 200 OK\n",
            "Length: 1549768 (1.5M) [application/octet-stream]\n",
            "Saving to: ‘cs3data1.h5’\n",
            "\n",
            "cs3data1.h5         100%[===================>]   1.48M  --.-KB/s    in 0.03s   \n",
            "\n",
            "2022-03-31 19:16:51 (56.9 MB/s) - ‘cs3data1.h5’ saved [1549768/1549768]\n",
            "\n",
            "--2022-03-31 19:16:51--  https://raw.githubusercontent.com/rcpaffenroth/DS595-Machine-Learning-for-Engineering-and-Science-Applications/main/data/cs3data2.h5\n",
            "Resolving raw.githubusercontent.com (raw.githubusercontent.com)... 185.199.108.133, 185.199.109.133, 185.199.110.133, ...\n",
            "Connecting to raw.githubusercontent.com (raw.githubusercontent.com)|185.199.108.133|:443... connected.\n",
            "HTTP request sent, awaiting response... 200 OK\n",
            "Length: 6161632 (5.9M) [application/octet-stream]\n",
            "Saving to: ‘cs3data2.h5’\n",
            "\n",
            "cs3data2.h5         100%[===================>]   5.88M  --.-KB/s    in 0.09s   \n",
            "\n",
            "2022-03-31 19:16:52 (63.1 MB/s) - ‘cs3data2.h5’ saved [6161632/6161632]\n",
            "\n"
          ]
        }
      ]
    },
    {
      "cell_type": "code",
      "source": [
        "arrays={}\n",
        "\n",
        "# grab the data from the file\n",
        "filepath = ['cs3data1.h5']\n",
        "numfiles = len(filepath)\n",
        "f = 0\n",
        "for i in range(numfiles):\n",
        "    f = h5py.File(filepath[i], 'r')\n",
        "    for k, v in f.items():\n",
        "        arrays[k] = v\n",
        "\n",
        "# display what data we have\n",
        "for key in arrays.keys():\n",
        "    print(key, arrays[key])"
      ],
      "metadata": {
        "colab": {
          "base_uri": "https://localhost:8080/"
        },
        "id": "r--AOfo6J6mu",
        "outputId": "d6699911-0930-4e49-cb8f-94b25d5d5983"
      },
      "execution_count": 3,
      "outputs": [
        {
          "output_type": "stream",
          "name": "stdout",
          "text": [
            "duct_height_save <HDF5 dataset \"duct_height_save\": shape (1, 1), type \"<f8\">\n",
            "field_H_imag_save <HDF5 dataset \"field_H_imag_save\": shape (1201, 40), type \"<f8\">\n",
            "field_H_real_save <HDF5 dataset \"field_H_real_save\": shape (1201, 40), type \"<f8\">\n",
            "field_V_imag_save <HDF5 dataset \"field_V_imag_save\": shape (1201, 40), type \"<f8\">\n",
            "field_V_real_save <HDF5 dataset \"field_V_real_save\": shape (1201, 40), type \"<f8\">\n",
            "range_grid <HDF5 dataset \"range_grid\": shape (1201, 1), type \"<f8\">\n"
          ]
        }
      ]
    },
    {
      "cell_type": "code",
      "source": [
        "numranges = 1201\n",
        "\n",
        "# get the electric field data and reshape everything into one np array\n",
        "\n",
        "data_h_real = np.array(arrays['field_H_real_save']).reshape(numranges, 40)\n",
        "data_h_imag = np.array(arrays['field_H_imag_save']).reshape(numranges, 40)\n",
        "data_v_real = np.array(arrays['field_V_real_save']).reshape(numranges, 40)\n",
        "data_v_imag = np.array(arrays['field_V_imag_save']).reshape(numranges, 40)\n",
        "\n",
        "Xraw = []\n",
        "Xraw += [[data_h_real*1, data_h_imag*1, data_v_real*1, data_v_imag*1]]\n",
        "Xraw = np.block(Xraw)\n",
        "\n",
        "print(Xraw.shape)\n",
        "\n",
        "# get the range data\n",
        "ranges = np.zeros((numranges))\n",
        "ranges = np.array(arrays['range_grid']).reshape((numranges))\n",
        "\n",
        "yraw = []\n",
        "yraw += [ranges]\n",
        "yraw = np.block(yraw)\n",
        "\n",
        "print(yraw.shape)"
      ],
      "metadata": {
        "colab": {
          "base_uri": "https://localhost:8080/"
        },
        "id": "CtEc3az5KJxK",
        "outputId": "4d83cc27-da4f-4108-c179-c64e3731e180"
      },
      "execution_count": 4,
      "outputs": [
        {
          "output_type": "stream",
          "name": "stdout",
          "text": [
            "(1201, 160)\n",
            "(1201,)\n"
          ]
        }
      ]
    },
    {
      "cell_type": "code",
      "source": [
        "plt.plot(Xraw[140], c='b')\n",
        "plt.grid()\n",
        "py.xlabel(\"Feature\")\n",
        "py.ylabel(\"Signal Strength\")\n",
        "py.title(\"Sample Data Point\")\n",
        "plt.figure()"
      ],
      "metadata": {
        "colab": {
          "base_uri": "https://localhost:8080/",
          "height": 330
        },
        "id": "xC9tUvHSKdqw",
        "outputId": "695be364-09f3-4d99-bf9b-cadf56864b18"
      },
      "execution_count": 5,
      "outputs": [
        {
          "output_type": "execute_result",
          "data": {
            "text/plain": [
              "<Figure size 432x288 with 0 Axes>"
            ]
          },
          "metadata": {},
          "execution_count": 5
        },
        {
          "output_type": "display_data",
          "data": {
            "text/plain": [
              "<Figure size 432x288 with 1 Axes>"
            ],
            "image/png": "[encoded data removed]"
          },
          "metadata": {
            "needs_background": "light"
          }
        },
        {
          "output_type": "display_data",
          "data": {
            "text/plain": [
              "<Figure size 432x288 with 0 Axes>"
            ]
          },
          "metadata": {}
        }
      ]
    },
    {
      "cell_type": "code",
      "source": [
        ""
      ],
      "metadata": {
        "id": "5OsVa3y7LrCl"
      },
      "execution_count": 5,
      "outputs": []
    },
    {
      "cell_type": "code",
      "source": [
        "def normalize(X):\n",
        "\n",
        "  normedX = np.zeros_like(X)\n",
        "\n",
        "  #renormalize\n",
        "  normedX[:,0:80] = X[:,0:80] / np.linalg.norm(X[:,0:80], axis = 1, keepdims=True).reshape((len(X), 1))\n",
        "  normedX[:,80:160] = X[:,80:160] / np.linalg.norm(X[:,80:160], axis = 1, keepdims=True).reshape((len(X), 1))\n",
        "\n",
        "  return normedX\n"
      ],
      "metadata": {
        "id": "-JEa3IE8LrbD"
      },
      "execution_count": 6,
      "outputs": []
    },
    {
      "cell_type": "code",
      "source": [
        "x_norm=normalize(Xraw)"
      ],
      "metadata": {
        "id": "Esji8HjMPXtH"
      },
      "execution_count": 7,
      "outputs": []
    },
    {
      "cell_type": "code",
      "source": [
        "plt.plot(x_norm[140], c='b')\n",
        "plt.grid()\n",
        "py.xlabel(\"Feature\")\n",
        "py.ylabel(\"Signal Strength\")\n",
        "py.title(\"Sample Data Point\")\n",
        "plt.figure()"
      ],
      "metadata": {
        "colab": {
          "base_uri": "https://localhost:8080/",
          "height": 330
        },
        "id": "BK9SMz08Pfmy",
        "outputId": "e2128451-a21e-46fd-8f28-a3e354045171"
      },
      "execution_count": 8,
      "outputs": [
        {
          "output_type": "execute_result",
          "data": {
            "text/plain": [
              "<Figure size 432x288 with 0 Axes>"
            ]
          },
          "metadata": {},
          "execution_count": 8
        },
        {
          "output_type": "display_data",
          "data": {
            "text/plain": [
              "<Figure size 432x288 with 1 Axes>"
            ],
            "image/png": "[encoded data removed]"
          },
          "metadata": {
            "needs_background": "light"
          }
        },
        {
          "output_type": "display_data",
          "data": {
            "text/plain": [
              "<Figure size 432x288 with 0 Axes>"
            ]
          },
          "metadata": {}
        }
      ]
    },
    {
      "cell_type": "code",
      "source": [
        ""
      ],
      "metadata": {
        "id": "sNKfViyDQe6F"
      },
      "execution_count": 8,
      "outputs": []
    },
    {
      "cell_type": "code",
      "source": [
        "from sklearn.model_selection import train_test_split\n",
        "XTrain,XTest = train_test_split(x_norm, test_size=0.5, shuffle=True, random_state=1)\n",
        "yTrain,yTest = train_test_split(yraw, test_size=0.5, shuffle=True,random_state=1)\n",
        "\n",
        "print(XTrain.shape)\n",
        "print(XTest.shape)\n",
        "print(yTrain.shape)\n",
        "print(yTest.shape)"
      ],
      "metadata": {
        "colab": {
          "base_uri": "https://localhost:8080/"
        },
        "id": "0o83LNnrQfr1",
        "outputId": "7e4548ab-14a7-4da9-aca4-b59816d91541"
      },
      "execution_count": 9,
      "outputs": [
        {
          "output_type": "stream",
          "name": "stdout",
          "text": [
            "(600, 160)\n",
            "(601, 160)\n",
            "(600,)\n",
            "(601,)\n"
          ]
        }
      ]
    },
    {
      "cell_type": "code",
      "source": [
        "from sklearn.metrics import mean_absolute_error, r2_score, mean_squared_error\n",
        "from sklearn import linear_model"
      ],
      "metadata": {
        "id": "Nl9A4P0aR2aY"
      },
      "execution_count": 10,
      "outputs": []
    },
    {
      "cell_type": "code",
      "source": [
        "def train(XTrain,XTest,yTrain,yTest):\n",
        "    method = linear_model.LinearRegression()\n",
        "    model = method.fit(XTrain, yTrain)\n",
        "\n",
        "    y_pred_train=method.predict(XTrain)\n",
        "    y_pred_test=method.predict(XTest)\n",
        "\n",
        "    MAE_train=mean_absolute_error(y_pred_train,yTrain)\n",
        "    MSE_train=mean_squared_error(y_pred_train,yTrain)\n",
        "    RMSE_train=np.sqrt(mean_squared_error(y_pred_train,yTrain))\n",
        "    R2_train=r2_score(y_pred_train,yTrain)\n",
        "\n",
        "    MAE_test=mean_absolute_error(y_pred_test,yTest)\n",
        "    MSE_test=mean_squared_error(y_pred_test,yTest)\n",
        "    RMSE_test=np.sqrt(mean_squared_error(y_pred_test,yTest))\n",
        "    R2_test=r2_score(y_pred_test,yTest)\n",
        "\n",
        "    return MAE_train,MSE_train,RMSE_train,R2_train,MAE_test,MSE_test,RMSE_test,R2_test"
      ],
      "metadata": {
        "id": "Xn8IZ5F5SJTL"
      },
      "execution_count": 11,
      "outputs": []
    },
    {
      "cell_type": "code",
      "source": [
        "from tabulate import tabulate\n",
        "MAE_train,MSE_train,RMSE_train,R2_train,MAE_test,MSE_test,RMSE_test,R2_test=train(XTrain,XTest,yTrain,yTest)\n",
        "results=[[\"Linear regression\",MAE_train,MSE_train,RMSE_train,R2_train,MAE_test,MSE_test,RMSE_test,R2_test]]"
      ],
      "metadata": {
        "id": "kIXn7nouVNVY"
      },
      "execution_count": 12,
      "outputs": []
    },
    {
      "cell_type": "code",
      "source": [
        "print(tabulate(results, headers=[\"Model\", \"Training MAE\", \"Training MSE\", \"Training RMSE\", \"Training R2\", \"Test MAE\", \"Test MSE\", \"Test RMSE\", \"Test R2\"], tablefmt=\"grid\"))"
      ],
      "metadata": {
        "colab": {
          "base_uri": "https://localhost:8080/"
        },
        "id": "uexttF14WxIz",
        "outputId": "64fe2f64-219f-458b-8c56-12015a32f465"
      },
      "execution_count": 13,
      "outputs": [
        {
          "output_type": "stream",
          "name": "stdout",
          "text": [
            "+-------------------+----------------+----------------+-----------------+---------------+-------------+-------------+-------------+--------------+\n",
            "| Model             |   Training MAE |   Training MSE |   Training RMSE |   Training R2 |    Test MAE |    Test MSE |   Test RMSE |      Test R2 |\n",
            "+===================+================+================+=================+===============+=============+=============+=============+==============+\n",
            "| Linear regression |        10765.5 |    1.88684e+08 |         13736.2 |      -0.81852 | 1.27881e+06 | 1.35899e+14 | 1.16576e+07 | -0.000280507 |\n",
            "+-------------------+----------------+----------------+-----------------+---------------+-------------+-------------+-------------+--------------+\n"
          ]
        }
      ]
    },
    {
      "cell_type": "markdown",
      "source": [
        "##Answer 1\n",
        "####Part 1\n",
        "- R^2 is a value between 0 and 100%. It is the fraction of response variance captured by the\n",
        "regression model. This can be found by dividing the total variance explained by the model by the\n",
        "total variance. An R^2 value of 100% would mean the two variables are perfectly correlated. \n",
        "- MSE is the mean squared error, the residual error, found by the average of the squared errors. A large MSE would mean a large variance and 0 would mean the two variables are perfectly correlated.\n",
        "- MAE is the mean absolute error, one of the most commonly used loss functions for regression problems, MAE helps users to formulate learning problems into optimization problems. It also serves as an easy-to-understand quantifiable measurement of errors for regression problems.\n",
        "- RMSE is root of the mean of squared errors. Root mean square error or root mean square deviation is one of the most commonly used measures for evaluating the quality of predictions. It shows how far predictions fall from measured true values using Euclidean distance. To compute RMSE, calculate the residual (difference between prediction and truth) for each data point, compute the norm of residual for each data point, compute the mean of residuals and take the square root of that mean. RMSE is commonly used in supervised learning applications, as RMSE uses and needs true measurements at each predicted data point.\n",
        "\n",
        "\n",
        "MSE, RMSE, MAE can vary if the response variable is scaled which is why R^2 can give a better idea of the performance of an algorithm.\n",
        "\n",
        "\n",
        "####Part 2\n"
      ],
      "metadata": {
        "id": "oi0LIU5j0lFu"
      }
    },
    {
      "cell_type": "code",
      "source": [
        "def train1(XTrain,XTest,yTrain,yTest):\n",
        "    method1 = linear_model.Ridge()\n",
        "    model1 = method1.fit(XTrain, yTrain)\n",
        "\n",
        "    y_pred_train_R=method1.predict(XTrain)\n",
        "    y_pred_test_R=method1.predict(XTest)\n",
        "\n",
        "    MAE_train_R=mean_absolute_error(y_pred_train_R,yTrain)\n",
        "    MSE_train_R=mean_squared_error(y_pred_train_R,yTrain)\n",
        "    RMSE_train_R=np.sqrt(mean_squared_error(y_pred_train_R,yTrain))\n",
        "    R2_train_R=r2_score(y_pred_train_R,yTrain)\n",
        "\n",
        "    MAE_test_R=mean_absolute_error(y_pred_test_R,yTest)\n",
        "    MSE_test_R=mean_squared_error(y_pred_test_R,yTest)\n",
        "    RMSE_test_R=np.sqrt(mean_squared_error(y_pred_test_R,yTest))\n",
        "    R2_test_R=r2_score(y_pred_test_R,yTest)\n",
        "\n",
        "    return MAE_train_R,MSE_train_R,RMSE_train_R,R2_train_R,MAE_test_R,MSE_test_R,RMSE_test_R,R2_test_R"
      ],
      "metadata": {
        "id": "MTteWj1Ucp-B"
      },
      "execution_count": 14,
      "outputs": []
    },
    {
      "cell_type": "code",
      "source": [
        "MAE_train,MSE_train,RMSE_train,R2_train,MAE_test,MSE_test,RMSE_test,R2_test=train1(XTrain,XTest,yTrain,yTest)\n",
        "\n",
        "results.append([\"Linear Ridge\",MAE_train,MSE_train,RMSE_train,R2_train,MAE_test,MSE_test,RMSE_test,R2_test])\n"
      ],
      "metadata": {
        "id": "WrvId-hYdNhX"
      },
      "execution_count": 15,
      "outputs": []
    },
    {
      "cell_type": "code",
      "source": [
        "print (tabulate(results, headers=[\"Model\", \"Training MAE\", \"Training MSE\", \"Training RMSE\", \"Training R^2\", \"Test MAE\", \"Test MSE\", \"Test RMSE\", \"Test R^2\"],tablefmt=\"grid\"))"
      ],
      "metadata": {
        "colab": {
          "base_uri": "https://localhost:8080/"
        },
        "id": "RI3Agtoodt7y",
        "outputId": "bc76ac28-3dd2-4e23-c989-f35cf17140f8"
      },
      "execution_count": 16,
      "outputs": [
        {
          "output_type": "stream",
          "name": "stdout",
          "text": [
            "+-------------------+----------------+----------------+-----------------+----------------+-----------------+-------------+-----------------+----------------+\n",
            "| Model             |   Training MAE |   Training MSE |   Training RMSE |   Training R^2 |        Test MAE |    Test MSE |       Test RMSE |       Test R^2 |\n",
            "+===================+================+================+=================+================+=================+=============+=================+================+\n",
            "| Linear regression |        10765.5 |    1.88684e+08 |         13736.2 |       -0.81852 |     1.27881e+06 | 1.35899e+14 |     1.16576e+07 |   -0.000280507 |\n",
            "+-------------------+----------------+----------------+-----------------+----------------+-----------------+-------------+-----------------+----------------+\n",
            "| Linear Ridge      |        14682.5 |    2.90253e+08 |         17036.8 |     -523.532   | 15361.8         | 3.11941e+08 | 17661.9         | -633.494       |\n",
            "+-------------------+----------------+----------------+-----------------+----------------+-----------------+-------------+-----------------+----------------+\n"
          ]
        }
      ]
    },
    {
      "cell_type": "code",
      "source": [
        "def train2(XTrain,XTest,yTrain,yTest):\n",
        "    method2 = linear_model.Lasso()\n",
        "    model2 = method2.fit(XTrain, yTrain)\n",
        "\n",
        "    y_pred_train_L=method2.predict(XTrain)\n",
        "    y_pred_test_L=method2.predict(XTest)\n",
        "\n",
        "    MAE_train_L=mean_absolute_error(y_pred_train_L,yTrain)\n",
        "    MSE_train_L=mean_squared_error(y_pred_train_L,yTrain)\n",
        "    RMSE_train_L=np.sqrt(mean_squared_error(y_pred_train_L,yTrain))\n",
        "    R2_train_L=r2_score(y_pred_train_L,yTrain)\n",
        "\n",
        "    MAE_test_L=mean_absolute_error(y_pred_test_L,yTest)\n",
        "    MSE_test_L=mean_squared_error(y_pred_test_L,yTest)\n",
        "    RMSE_test_L=np.sqrt(mean_squared_error(y_pred_test_L,yTest))\n",
        "    R2_test_L=r2_score(y_pred_test_L,yTest)\n",
        "\n",
        "    return MAE_train_L,MSE_train_L,RMSE_train_L,R2_train_L,MAE_test_L,MSE_test_L,RMSE_test_L,R2_test_L"
      ],
      "metadata": {
        "id": "ag3e-QRQHKGd"
      },
      "execution_count": 17,
      "outputs": []
    },
    {
      "cell_type": "code",
      "source": [
        "MAE_train,MSE_train,RMSE_train,R2_train,MAE_test,MSE_test,RMSE_test,R2_test=train2(XTrain,XTest,yTrain,yTest)\n",
        "\n",
        "results.append([\"Linear Lasso\",MAE_train,MSE_train,RMSE_train,R2_train,MAE_test,MSE_test,RMSE_test,R2_test])\n"
      ],
      "metadata": {
        "id": "XfJ7lYEQHkIr"
      },
      "execution_count": 18,
      "outputs": []
    },
    {
      "cell_type": "code",
      "source": [
        "print (tabulate(results, headers=[\"Model\", \"Training MAE\", \"Training MSE\", \"Training RMSE\", \"Training R^2\", \"Test MAE\", \"Test MSE\", \"Test RMSE\", \"Test R^2\"],tablefmt=\"grid\"))"
      ],
      "metadata": {
        "colab": {
          "base_uri": "https://localhost:8080/"
        },
        "id": "Sxvq-yg1Hv7S",
        "outputId": "f24dc51f-7835-4a5e-df95-27b95caae03b"
      },
      "execution_count": 19,
      "outputs": [
        {
          "output_type": "stream",
          "name": "stdout",
          "text": [
            "+-------------------+----------------+----------------+-----------------+----------------+-----------------+-------------+-----------------+----------------+\n",
            "| Model             |   Training MAE |   Training MSE |   Training RMSE |   Training R^2 |        Test MAE |    Test MSE |       Test RMSE |       Test R^2 |\n",
            "+===================+================+================+=================+================+=================+=============+=================+================+\n",
            "| Linear regression |        10765.5 |    1.88684e+08 |         13736.2 |       -0.81852 |     1.27881e+06 | 1.35899e+14 |     1.16576e+07 |   -0.000280507 |\n",
            "+-------------------+----------------+----------------+-----------------+----------------+-----------------+-------------+-----------------+----------------+\n",
            "| Linear Ridge      |        14682.5 |    2.90253e+08 |         17036.8 |     -523.532   | 15361.8         | 3.11941e+08 | 17661.9         | -633.494       |\n",
            "+-------------------+----------------+----------------+-----------------+----------------+-----------------+-------------+-----------------+----------------+\n",
            "| Linear Lasso      |        14673.4 |    2.90082e+08 |         17031.8 |     -363.127   | 15372.7         | 3.1278e+08  | 17685.6         | -427.002       |\n",
            "+-------------------+----------------+----------------+-----------------+----------------+-----------------+-------------+-----------------+----------------+\n"
          ]
        }
      ]
    },
    {
      "cell_type": "code",
      "source": [
        "def train3(XTrain,XTest,yTrain,yTest):\n",
        "    method3 = linear_model.BayesianRidge()\n",
        "    model3 = method3.fit(XTrain, yTrain)\n",
        "\n",
        "    y_pred_train_B=method3.predict(XTrain)\n",
        "    y_pred_test_B=method3.predict(XTest)\n",
        "\n",
        "    MAE_train_B=mean_absolute_error(y_pred_train_B,yTrain)\n",
        "    MSE_train_B=mean_squared_error(y_pred_train_B,yTrain)\n",
        "    RMSE_train_B=np.sqrt(mean_squared_error(y_pred_train_B,yTrain))\n",
        "    R2_train_B=r2_score(y_pred_train_B,yTrain)\n",
        "\n",
        "    MAE_test_B=mean_absolute_error(y_pred_test_B,yTest)\n",
        "    MSE_test_B=mean_squared_error(y_pred_test_B,yTest)\n",
        "    RMSE_test_B=np.sqrt(mean_squared_error(y_pred_test_B,yTest))\n",
        "    R2_test_B=r2_score(y_pred_test_B,yTest)\n",
        "\n",
        "    return MAE_train_B,MSE_train_B,RMSE_train_B,R2_train_B,MAE_test_B,MSE_test_B,RMSE_test_B,R2_test_B"
      ],
      "metadata": {
        "id": "ZWPrcPQIH9GR"
      },
      "execution_count": 20,
      "outputs": []
    },
    {
      "cell_type": "code",
      "source": [
        "MAE_train,MSE_train,RMSE_train,R2_train,MAE_test,MSE_test,RMSE_test,R2_test=train3(XTrain,XTest,yTrain,yTest)\n",
        "\n",
        "results.append([\"Linear BayesianRidge\",MAE_train,MSE_train,RMSE_train,R2_train,MAE_test,MSE_test,RMSE_test,R2_test])\n",
        "\n",
        "print (tabulate(results, headers=[\"Model\", \"Training MAE\", \"Training MSE\", \"Training RMSE\", \"Training R^2\", \"Test MAE\", \"Test MSE\", \"Test RMSE\", \"Test R^2\"],tablefmt=\"grid\"))"
      ],
      "metadata": {
        "colab": {
          "base_uri": "https://localhost:8080/"
        },
        "id": "Tt45GIXeIaFd",
        "outputId": "c77e2119-54d0-4f53-95c7-0bca34ccf78a"
      },
      "execution_count": 21,
      "outputs": [
        {
          "output_type": "stream",
          "name": "stdout",
          "text": [
            "+----------------------+----------------+----------------+-----------------+----------------+-----------------+-------------+-----------------+----------------+\n",
            "| Model                |   Training MAE |   Training MSE |   Training RMSE |   Training R^2 |        Test MAE |    Test MSE |       Test RMSE |       Test R^2 |\n",
            "+======================+================+================+=================+================+=================+=============+=================+================+\n",
            "| Linear regression    |        10765.5 |    1.88684e+08 |         13736.2 |   -0.81852     |     1.27881e+06 | 1.35899e+14 |     1.16576e+07 |   -0.000280507 |\n",
            "+----------------------+----------------+----------------+-----------------+----------------+-----------------+-------------+-----------------+----------------+\n",
            "| Linear Ridge         |        14682.5 |    2.90253e+08 |         17036.8 | -523.532       | 15361.8         | 3.11941e+08 | 17661.9         | -633.494       |\n",
            "+----------------------+----------------+----------------+-----------------+----------------+-----------------+-------------+-----------------+----------------+\n",
            "| Linear Lasso         |        14673.4 |    2.90082e+08 |         17031.8 | -363.127       | 15372.7         | 3.1278e+08  | 17685.6         | -427.002       |\n",
            "+----------------------+----------------+----------------+-----------------+----------------+-----------------+-------------+-----------------+----------------+\n",
            "| Linear BayesianRidge |        14705.9 |    2.91107e+08 |         17061.9 |   -2.80613e+15 | 15318.8         | 3.09894e+08 | 17603.8         |   -3.48914e+15 |\n",
            "+----------------------+----------------+----------------+-----------------+----------------+-----------------+-------------+-----------------+----------------+\n"
          ]
        }
      ]
    },
    {
      "cell_type": "code",
      "source": [
        ""
      ],
      "metadata": {
        "id": "PdOM-TX-I7y9"
      },
      "execution_count": 21,
      "outputs": []
    },
    {
      "cell_type": "markdown",
      "source": [
        "##Answer 2)\n",
        "####Part 1\n",
        "1. Human Intervention: Machine learning requires more ongoing human intervention to get results. Deep learning is more complex to set up but requires minimal intervention thereafter.\n",
        "\n",
        "2. Hardware: Machine learning programs tend to be less complex than deep learning algorithms and can often run on conventional computers, but deep learning systems require far more powerful hardware and resources. This demand for power has driven has meant increased use of graphical processing units. GPUs are useful for their high bandwidth memory and ability to hide latency (delays) in memory transfer due to thread parallelism (the ability of many operations to run efficiently at the same time.)\n",
        "\n",
        "3. Time: Machine learning systems can be set up and operate quickly but may be limited in the power of their results. Deep learning systems take more time to set up but can generate results instantaneously (although the quality is likely to improve over time as more data becomes available).\n",
        "\n",
        "4. Approach: Machine learning tends to require structured data and uses traditional algorithms like linear regression. Deep learning employs neural networks and is built to accommodate large volumes of unstructured data.\n",
        "\n",
        "5. Applications: Machine learning is already in use in your email inbox, bank, and doctor’s office. Deep learning technology enables more complex and autonomous programs, like self-driving cars or robots that perform advanced surgery\n",
        "\n",
        "\\\\\n",
        "\n",
        "####Part 2\n",
        "The main difference between CPU and GPU architecture is that a CPU is designed to handle a wide-range of tasks quickly (as measured by CPU clock speed), but are limited in the concurrency of tasks that can be running. A GPU is designed to quickly render high-resolution images and video concurrently.\n",
        "\n",
        "Because GPUs can perform parallel operations on multiple sets of data, they are also commonly used for non-graphical tasks such as machine learning and scientific computation. Designed with thousands of processor cores running simultaneously, GPUs enable massive parallelism where each core is focused on making efficient calculations.\n",
        "\n",
        "\\\\\n",
        "While GPUs can process data several orders of magnitude faster than a CPU due to massive parallelism, GPUs are not as versatile as CPUs. CPUs have large and broad instruction sets, managing every input and output of a computer, which a GPU cannot do. In a server environment, there might be 24 to 48 very fast CPU cores. Adding 4 to 8 GPUs to this same server can provide as many as 40,000 additional cores. While individual CPU cores are faster (as measured by CPU clock speed) and smarter than individual GPU cores (as measured by available instruction sets), the sheer number of GPU cores and the massive amount of parallelism that they offer more than make up the single-core clock speed difference and limited instruction sets.\n",
        "\n",
        "\\\\\n",
        "\n",
        "####Part 3\n",
        "GPUs are best suited for repetitive and highly-parallel computing tasks. Beyond video rendering, GPUs excel in machine learning, financial simulations and risk modeling, and many other types of scientific computations. While in years past, GPUs were used for mining cryptocurrencies such as Bitcoin or Ethereum, GPUs are generally no longer utilized at scale, giving way to specialized hardware such as Field-Programmable Grid Arrays (FPGA) and then Application Specific Integrated Circuits (ASIC).\n",
        "\n"
      ],
      "metadata": {
        "id": "d3e5MQPq3nsM"
      }
    },
    {
      "cell_type": "code",
      "source": [
        ""
      ],
      "metadata": {
        "id": "simjfXyn3nLQ"
      },
      "execution_count": 21,
      "outputs": []
    },
    {
      "cell_type": "code",
      "source": [
        "if torch.cuda.is_available():\n",
        "  print('CUDA available')\n",
        "  print(torch.cuda.get_device_name(0))\n",
        "else:\n",
        "  print('CUDA *not* available')\n",
        "\n",
        "device = torch.device('cuda' if torch.cuda.is_available() else 'cpu')\n",
        "#device = torch.device('cpu')"
      ],
      "metadata": {
        "colab": {
          "base_uri": "https://localhost:8080/"
        },
        "id": "O7ypqiE3I9of",
        "outputId": "f1a558bc-2e31-4078-e3d1-5cb4c3a0b82e"
      },
      "execution_count": 22,
      "outputs": [
        {
          "output_type": "stream",
          "name": "stdout",
          "text": [
            "CUDA available\n",
            "Tesla K80\n"
          ]
        }
      ]
    },
    {
      "cell_type": "code",
      "source": [
        ""
      ],
      "metadata": {
        "id": "bXXTZhmHJ3YB"
      },
      "execution_count": 22,
      "outputs": []
    },
    {
      "cell_type": "code",
      "source": [
        "class mynetwork_1(nn.Module):\n",
        "  def __init__(self):\n",
        "    super(mynetwork_1, self).__init__()\n",
        "    self.structure = nn.Sequential(nn.Linear(160, 50), nn.Linear(50, 1))\n",
        "  \n",
        "  def forward(self, x):\n",
        "    x = self.structure(x)\n",
        "    return x"
      ],
      "metadata": {
        "id": "LLS_hxYMJ3Ue"
      },
      "execution_count": 23,
      "outputs": []
    },
    {
      "cell_type": "code",
      "source": [
        "class mynetwork_2(nn.Module):\n",
        "  def __init__(self):\n",
        "    super(mynetwork_2, self).__init__()\n",
        "    self.structure = nn.Sequential(nn.Linear(160, 50), nn.Sigmoid(), nn.Linear(50, 1))\n",
        "  def forward(self, x):\n",
        "    x = self.structure(x)\n",
        "    return x"
      ],
      "metadata": {
        "id": "Hy6R2XZxKv4R"
      },
      "execution_count": 24,
      "outputs": []
    },
    {
      "cell_type": "markdown",
      "source": [
        "##Answer 3)\n",
        "####Part 1\n",
        "The sigmoid function is used as an activation function in neural networks. When the activation function for a neuron is a sigmoid function it is a guarantee that the output of this unit will always be between 0 and 1. Also, as the sigmoid is a non-linear function, the output of this unit would be a non-linear function of the weighted sum of inputs. Such a neuron that employs a sigmoid function as an activation function is termed as a sigmoid unit.\n",
        "\n",
        "\\\\\n",
        "If we use a linear activation function in a neural network (Our First Network), then this model can only learn linearly separable problems. However, with the addition of just one hidden layer and a sigmoid activation function in the hidden layer (Our Second Network), the neural network can easily learn a non-linearly separable problem. Using a non-linear function produces non-linear boundaries and hence, the sigmoid function can be used in neural networks for learning complex decision functions.\n",
        "\n"
      ],
      "metadata": {
        "id": "BPmHqwIAsiwe"
      }
    },
    {
      "cell_type": "markdown",
      "source": [
        "##Answer 4\n",
        "####Part 1\n",
        "Gradient descent is a first-order optimization algorithm which is dependent on the first order derivative of a loss function. It calculates that which way the weights should be altered so that the function can reach a minima. Through backpropagation, the loss is transferred from one layer to another and the model’s parameters also known as weights are modified depending on the losses so that the loss can be minimized.\n",
        "\n",
        "algorithm: θ=θ−α⋅∇J(θ)\n",
        "\n",
        "No, Gradient Descent does not always guarantee to find the global minima. It finds the minima but it need not to be global minima. We could have a small learning rate which make us think we have reached optimal minima but in reality we are stuck in local minima. We could have large Learning rate which can skip the minima.\n",
        "\n",
        "####Part 2\n",
        "1. Batch Size: The batch size is a hyperparameter that defines the number of samples to work through before updating the internal model parameters.\n",
        "\n",
        " Think of a batch as a for-loop iterating over one or more samples and making predictions. At the end of the batch, the predictions are compared to the expected output variables and an error is calculated. From this error, the update algorithm is used to improve the model, e.g. move down along the error gradient.\n",
        "\n",
        "2. Number of epochs: The number of epochs is a hyperparameter that defines the number times that the learning algorithm will work through the entire training dataset.\n",
        "\n",
        " One epoch means that each sample in the training dataset has had an opportunity to update the internal model parameters. An epoch is comprised of one or more batches. For example, as above, an epoch that has one batch is called the batch gradient descent learning algorithm.\n",
        "3. Learing rate: This is the hyperparameter that determines the steps the gradient descent algorithm takes. Gradient Descent is too sensitive to the learning rate. If it is too big, the algorithm may bypass the local minimum and overshoot. If it too small, it might increase the total computation time to a very large extent.\n",
        "4. Criterion (loss function): A function that returns the cost associated with the model and measures how well our model is doing on the training data. If the cost is too high, it means that the predictions by our model are deviating too much from the observed data. In any machine learning algorithm, our ultimate mission is to minimize the loss function.\n",
        "\n",
        "\\\\\n",
        "Each of them impact our model. Learning rate will set the computational time. if we have large learning rate we might skip minima. If number of epochs are larger or small it will imapact our network. Large will cause overfitting and less will cause underfitting."
      ],
      "metadata": {
        "id": "EMWvEz1OQi5l"
      }
    },
    {
      "cell_type": "code",
      "source": [
        "torch.manual_seed(50)\n",
        "\n",
        "model_1 = mynetwork_1().cuda()\n",
        "model_2 = mynetwork_2().cuda()\n",
        "\n",
        "\n",
        "batch_size = 100\n",
        "num_epochs = 500\n",
        "learning_rate = 1e-3\n",
        "criterion = nn.MSELoss()\n",
        "\n",
        "print_interval=20"
      ],
      "metadata": {
        "id": "9H1XO2I1M3n2"
      },
      "execution_count": 25,
      "outputs": []
    },
    {
      "cell_type": "code",
      "source": [
        "def train(training_inputs, training_outputs, network, epochs, learning_rate, batch_size, loss_function, print_interval):\n",
        "  train_dataset = torch.utils.data.TensorDataset(torch.FloatTensor(training_inputs), torch.Tensor(training_outputs))\n",
        "  train_loader = torch.utils.data.DataLoader(train_dataset, batch_size=batch_size, shuffle=True)\n",
        "  optimizer = torch.optim.Adam(network.parameters(), lr=learning_rate, weight_decay=1e-5)\n",
        "  track_losses = np.zeros(num_epochs)\n",
        "\n",
        "  start = time.time()\n",
        "  for epoch in range(1, num_epochs):\n",
        "\n",
        "    for batch_idx, (X, y) in enumerate(train_loader):\n",
        "      data = X\n",
        "      output = network(data.to(device))\n",
        "      loss = loss_function(output, y.view([-1, 1]).to(device))\n",
        "      optimizer.zero_grad()\n",
        "      loss.backward()\n",
        "      optimizer.step()\n",
        "\n",
        "    training_loss = loss.item()**.5\n",
        "    track_losses[epoch-1]=training_loss\n",
        "    if epoch % print_interval == 0:\n",
        "      print('epoch: %4d training loss:%10.3e time:%7.1f'%(epoch, training_loss, time.time()-start))\n",
        "\n",
        "  return network, track_losses"
      ],
      "metadata": {
        "id": "OF-GPplWN9s4"
      },
      "execution_count": 26,
      "outputs": []
    },
    {
      "cell_type": "code",
      "source": [
        "network_1, losses = train(XTrain, yTrain, model_1, num_epochs, learning_rate, batch_size, criterion, print_interval)\n",
        "network_2, losses = train(XTrain, yTrain, model_2, num_epochs, learning_rate, batch_size, criterion, print_interval)"
      ],
      "metadata": {
        "colab": {
          "base_uri": "https://localhost:8080/"
        },
        "id": "UojMmM8cU0uE",
        "outputId": "6c9bf44d-de5e-47d6-d07b-0c876201f6c3"
      },
      "execution_count": 27,
      "outputs": [
        {
          "output_type": "stream",
          "name": "stdout",
          "text": [
            "epoch:   20 training loss: 4.352e+04 time:    0.7\n",
            "epoch:   40 training loss: 4.311e+04 time:    1.1\n",
            "epoch:   60 training loss: 4.254e+04 time:    1.6\n",
            "epoch:   80 training loss: 4.564e+04 time:    2.1\n",
            "epoch:  100 training loss: 4.338e+04 time:    2.5\n",
            "epoch:  120 training loss: 4.120e+04 time:    3.0\n",
            "epoch:  140 training loss: 4.542e+04 time:    3.5\n",
            "epoch:  160 training loss: 4.226e+04 time:    3.9\n",
            "epoch:  180 training loss: 4.191e+04 time:    4.7\n",
            "epoch:  200 training loss: 4.350e+04 time:    5.1\n",
            "epoch:  220 training loss: 4.272e+04 time:    5.3\n",
            "epoch:  240 training loss: 4.434e+04 time:    5.6\n",
            "epoch:  260 training loss: 4.217e+04 time:    5.9\n",
            "epoch:  280 training loss: 4.516e+04 time:    6.2\n",
            "epoch:  300 training loss: 4.234e+04 time:    6.4\n",
            "epoch:  320 training loss: 4.353e+04 time:    6.7\n",
            "epoch:  340 training loss: 4.416e+04 time:    7.0\n",
            "epoch:  360 training loss: 4.318e+04 time:    7.3\n",
            "epoch:  380 training loss: 4.250e+04 time:    7.6\n",
            "epoch:  400 training loss: 4.079e+04 time:    7.8\n",
            "epoch:  420 training loss: 4.343e+04 time:    8.1\n",
            "epoch:  440 training loss: 4.594e+04 time:    8.4\n",
            "epoch:  460 training loss: 3.967e+04 time:    8.7\n",
            "epoch:  480 training loss: 4.412e+04 time:    9.0\n",
            "epoch:   20 training loss: 4.079e+04 time:    0.3\n",
            "epoch:   40 training loss: 4.617e+04 time:    0.6\n",
            "epoch:   60 training loss: 4.247e+04 time:    0.9\n",
            "epoch:   80 training loss: 4.442e+04 time:    1.1\n",
            "epoch:  100 training loss: 4.533e+04 time:    1.4\n",
            "epoch:  120 training loss: 4.497e+04 time:    1.7\n",
            "epoch:  140 training loss: 4.422e+04 time:    2.0\n",
            "epoch:  160 training loss: 4.116e+04 time:    2.3\n",
            "epoch:  180 training loss: 4.617e+04 time:    2.5\n",
            "epoch:  200 training loss: 4.342e+04 time:    2.8\n",
            "epoch:  220 training loss: 4.265e+04 time:    3.1\n",
            "epoch:  240 training loss: 4.455e+04 time:    3.4\n",
            "epoch:  260 training loss: 4.193e+04 time:    3.7\n",
            "epoch:  280 training loss: 4.273e+04 time:    4.0\n",
            "epoch:  300 training loss: 4.551e+04 time:    4.3\n",
            "epoch:  320 training loss: 4.226e+04 time:    4.5\n",
            "epoch:  340 training loss: 4.481e+04 time:    4.8\n",
            "epoch:  360 training loss: 4.350e+04 time:    5.1\n",
            "epoch:  380 training loss: 4.101e+04 time:    5.4\n",
            "epoch:  400 training loss: 4.328e+04 time:    5.7\n",
            "epoch:  420 training loss: 4.289e+04 time:    5.9\n",
            "epoch:  440 training loss: 4.281e+04 time:    6.2\n",
            "epoch:  460 training loss: 4.234e+04 time:    6.7\n",
            "epoch:  480 training loss: 4.255e+04 time:    7.2\n"
          ]
        }
      ]
    },
    {
      "cell_type": "code",
      "source": [
        "def model_eva(XTrain,XTest,yTrain,yTest,model):\n",
        "  XTrain_th=torch.FloatTensor(XTrain).cuda()\n",
        "  Xtest_th=torch.FloatTensor(XTest).cuda()\n",
        "\n",
        "  yTrain_pred_np=model(XTrain_th).cpu().detach().numpy().reshape(-1)\n",
        "  yTest_pred_np=model(Xtest_th).cpu().detach().numpy().reshape(-1)\n",
        "\n",
        "  MAE_train=mean_absolute_error(yTrain_pred_np,yTrain)\n",
        "  MSE_train=mean_squared_error(yTrain_pred_np,yTrain)\n",
        "  RMSE_train=np.sqrt(mean_squared_error(yTrain_pred_np,yTrain))\n",
        "  R2_train=r2_score(yTrain_pred_np,yTrain)\n",
        "\n",
        "  MAE_test=mean_absolute_error(yTest_pred_np,yTest)\n",
        "  MSE_test=mean_squared_error(yTest_pred_np,yTest)\n",
        "  RMSE_test=np.sqrt(mean_squared_error(yTest_pred_np,yTest))\n",
        "  R2_test=r2_score(yTest_pred_np,yTest)\n",
        "\n",
        "  return MAE_train,MSE_train,RMSE_train,R2_train,MAE_test,MSE_test,RMSE_test,R2_test"
      ],
      "metadata": {
        "id": "rAgLvXi_Vgqj"
      },
      "execution_count": 28,
      "outputs": []
    },
    {
      "cell_type": "code",
      "source": [
        "MAE_train_nn1,MSE_train_nn1,RMSE_train_nn1,R2_train_nn1,MAE_test_nn1,MSE_test_nn1,RMSE_test_nn1,R2_test_nn1=model_eva(XTrain,XTest,yTrain,yTest,network_1)\n",
        "MAE_train_nn2,MSE_train_nn2,RMSE_train_nn2,R2_train_nn2,MAE_test_nn2,MSE_test_nn2,RMSE_test_nn2,R2_test_nn2=model_eva(XTrain,XTest,yTrain,yTest,network_2)\n",
        "\n",
        "results.append([\"NN_1\",MAE_train_nn1,MSE_train_nn1,RMSE_train_nn1,R2_train_nn1,MAE_test_nn1,MSE_test_nn1,RMSE_test_nn1,R2_test_nn1])\n",
        "results.append([\"NN_2\",MAE_train_nn2,MSE_train_nn2,RMSE_train_nn2,R2_train_nn2,MAE_test_nn2,MSE_test_nn2,RMSE_test_nn2,R2_test_nn2])\n"
      ],
      "metadata": {
        "id": "1uoQybW49hoL"
      },
      "execution_count": 29,
      "outputs": []
    },
    {
      "cell_type": "code",
      "source": [
        "print(tabulate(results, headers=[\"Model\", \"Training MAE\", \"Training MSE\", \"Training RMSE\", \"Training R^2\", \"Test MAE\", \"Test MSE\", \"Test RMSE\", \"Test R^2\"], tablefmt=\"grid\"))"
      ],
      "metadata": {
        "colab": {
          "base_uri": "https://localhost:8080/"
        },
        "id": "Qvem3a1DCC_w",
        "outputId": "11ba05a2-be73-419b-e219-f33b5d7a3c60"
      },
      "execution_count": 30,
      "outputs": [
        {
          "output_type": "stream",
          "name": "stdout",
          "text": [
            "+----------------------+----------------+----------------+-----------------+-----------------+-----------------+-------------+-----------------+-----------------+\n",
            "| Model                |   Training MAE |   Training MSE |   Training RMSE |    Training R^2 |        Test MAE |    Test MSE |       Test RMSE |        Test R^2 |\n",
            "+======================+================+================+=================+=================+=================+=============+=================+=================+\n",
            "| Linear regression    |        10765.5 |    1.88684e+08 |         13736.2 |    -0.81852     |     1.27881e+06 | 1.35899e+14 |     1.16576e+07 |    -0.000280507 |\n",
            "+----------------------+----------------+----------------+-----------------+-----------------+-----------------+-------------+-----------------+-----------------+\n",
            "| Linear Ridge         |        14682.5 |    2.90253e+08 |         17036.8 |  -523.532       | 15361.8         | 3.11941e+08 | 17661.9         |  -633.494       |\n",
            "+----------------------+----------------+----------------+-----------------+-----------------+-----------------+-------------+-----------------+-----------------+\n",
            "| Linear Lasso         |        14673.4 |    2.90082e+08 |         17031.8 |  -363.127       | 15372.7         | 3.1278e+08  | 17685.6         |  -427.002       |\n",
            "+----------------------+----------------+----------------+-----------------+-----------------+-----------------+-------------+-----------------+-----------------+\n",
            "| Linear BayesianRidge |        14705.9 |    2.91107e+08 |         17061.9 |    -2.80613e+15 | 15318.8         | 3.09894e+08 | 17603.8         |    -3.48914e+15 |\n",
            "+----------------------+----------------+----------------+-----------------+-----------------+-----------------+-------------+-----------------+-----------------+\n",
            "| NN_1                 |        39102.5 |    1.82065e+09 |         42669.1 | -1155.56        | 39042.4         | 1.83706e+09 | 42860.9         | -1232.5         |\n",
            "+----------------------+----------------+----------------+-----------------+-----------------+-----------------+-------------+-----------------+-----------------+\n",
            "| NN_2                 |        39928   |    1.88535e+09 |         43420.6 |    -1.64786e+10 | 39745.7         | 1.88958e+09 | 43469.3         |    -1.70635e+10 |\n",
            "+----------------------+----------------+----------------+-----------------+-----------------+-----------------+-------------+-----------------+-----------------+\n"
          ]
        }
      ]
    },
    {
      "cell_type": "code",
      "source": [
        "class mynetwork_3(nn.Module):\n",
        "  def __init__(self):\n",
        "    super(mynetwork_3, self).__init__()\n",
        "    self.structure = nn.Sequential(nn.Linear(160,100), nn.LeakyReLU(), nn.Linear(100,80), nn.LeakyReLU(), nn.Linear(80,50), nn.LeakyReLU(), nn.Linear(50,1))\n",
        "\n",
        "  def forward(self, x):\n",
        "    x = self.structure(x)\n",
        "    return x\n",
        "  "
      ],
      "metadata": {
        "id": "GjlaDtOLE-2x"
      },
      "execution_count": 31,
      "outputs": []
    },
    {
      "cell_type": "code",
      "source": [
        "model_3 = mynetwork_3().cuda()\n",
        "network_3, losses = train(XTrain, yTrain, model_3, num_epochs, learning_rate, batch_size, criterion, print_interval)"
      ],
      "metadata": {
        "colab": {
          "base_uri": "https://localhost:8080/"
        },
        "id": "yVtYjC3y3op1",
        "outputId": "d9889e27-4cf1-4f0d-b3b8-cf3875c86541"
      },
      "execution_count": 32,
      "outputs": [
        {
          "output_type": "stream",
          "name": "stdout",
          "text": [
            "epoch:   20 training loss: 4.379e+04 time:    0.9\n",
            "epoch:   40 training loss: 2.487e+04 time:    1.7\n",
            "epoch:   60 training loss: 1.827e+04 time:    2.4\n",
            "epoch:   80 training loss: 1.546e+04 time:    3.2\n",
            "epoch:  100 training loss: 1.317e+04 time:    3.9\n",
            "epoch:  120 training loss: 1.049e+04 time:    4.7\n",
            "epoch:  140 training loss: 8.914e+03 time:    5.4\n",
            "epoch:  160 training loss: 7.342e+03 time:    6.1\n",
            "epoch:  180 training loss: 6.988e+03 time:    7.0\n",
            "epoch:  200 training loss: 6.082e+03 time:    8.0\n",
            "epoch:  220 training loss: 5.061e+03 time:    8.9\n",
            "epoch:  240 training loss: 4.764e+03 time:    9.6\n",
            "epoch:  260 training loss: 4.777e+03 time:   10.0\n",
            "epoch:  280 training loss: 4.370e+03 time:   10.4\n",
            "epoch:  300 training loss: 3.681e+03 time:   10.8\n",
            "epoch:  320 training loss: 3.577e+03 time:   11.2\n",
            "epoch:  340 training loss: 3.265e+03 time:   11.6\n",
            "epoch:  360 training loss: 3.265e+03 time:   11.9\n",
            "epoch:  380 training loss: 3.128e+03 time:   12.3\n",
            "epoch:  400 training loss: 3.079e+03 time:   12.8\n",
            "epoch:  420 training loss: 2.929e+03 time:   13.1\n",
            "epoch:  440 training loss: 2.414e+03 time:   13.5\n",
            "epoch:  460 training loss: 2.309e+03 time:   13.9\n",
            "epoch:  480 training loss: 2.084e+03 time:   14.3\n"
          ]
        }
      ]
    },
    {
      "cell_type": "code",
      "source": [
        "plt.plot(losses)\n",
        "plt.grid()\n",
        "plt.xlabel(\"Epoch\")\n",
        "plt.ylabel(\"Error\")\n",
        "plt.figure()"
      ],
      "metadata": {
        "colab": {
          "base_uri": "https://localhost:8080/",
          "height": 314
        },
        "id": "W_VsYsof4PAt",
        "outputId": "5b6555c1-df54-46c4-a659-e15ac97161b1"
      },
      "execution_count": 33,
      "outputs": [
        {
          "output_type": "execute_result",
          "data": {
            "text/plain": [
              "<Figure size 432x288 with 0 Axes>"
            ]
          },
          "metadata": {},
          "execution_count": 33
        },
        {
          "output_type": "display_data",
          "data": {
            "text/plain": [
              "<Figure size 432x288 with 1 Axes>"
            ],
            "image/png": "[encoded data removed]"
          },
          "metadata": {
            "needs_background": "light"
          }
        },
        {
          "output_type": "display_data",
          "data": {
            "text/plain": [
              "<Figure size 432x288 with 0 Axes>"
            ]
          },
          "metadata": {}
        }
      ]
    },
    {
      "cell_type": "code",
      "source": [
        "MAE_train_nn3,MSE_train_nn3,RMSE_train_nn3,R2_train_nn3,MAE_test_nn3,MSE_test_nn3,RMSE_test_nn3,R2_test_nn3=model_eva(XTrain,XTest,yTrain,yTest,network_3)\n",
        "results.append([\"NN_3\",MAE_train_nn3,MSE_train_nn3,RMSE_train_nn3,R2_train_nn3,MAE_test_nn3,MSE_test_nn3,RMSE_test_nn3,R2_test_nn3])\n",
        "print (tabulate(results, headers=[\"Model\", \"Training MAE\", \"Training MSE\", \"Training RMSE\", \"Training R^2\", \"Test MAE\", \"Test MSE\", \"Test RMSE\", \"Test R^2\"],tablefmt=\"grid\"))"
      ],
      "metadata": {
        "colab": {
          "base_uri": "https://localhost:8080/"
        },
        "id": "cKwMeL6B4k2T",
        "outputId": "19607ab0-0a2e-4b81-c452-b4bd6b3389a2"
      },
      "execution_count": 34,
      "outputs": [
        {
          "output_type": "stream",
          "name": "stdout",
          "text": [
            "+----------------------+----------------+----------------+-----------------+-----------------+-----------------+-------------+-----------------+-----------------+\n",
            "| Model                |   Training MAE |   Training MSE |   Training RMSE |    Training R^2 |        Test MAE |    Test MSE |       Test RMSE |        Test R^2 |\n",
            "+======================+================+================+=================+=================+=================+=============+=================+=================+\n",
            "| Linear regression    |       10765.5  |    1.88684e+08 |         13736.2 |    -0.81852     |     1.27881e+06 | 1.35899e+14 |     1.16576e+07 |    -0.000280507 |\n",
            "+----------------------+----------------+----------------+-----------------+-----------------+-----------------+-------------+-----------------+-----------------+\n",
            "| Linear Ridge         |       14682.5  |    2.90253e+08 |         17036.8 |  -523.532       | 15361.8         | 3.11941e+08 | 17661.9         |  -633.494       |\n",
            "+----------------------+----------------+----------------+-----------------+-----------------+-----------------+-------------+-----------------+-----------------+\n",
            "| Linear Lasso         |       14673.4  |    2.90082e+08 |         17031.8 |  -363.127       | 15372.7         | 3.1278e+08  | 17685.6         |  -427.002       |\n",
            "+----------------------+----------------+----------------+-----------------+-----------------+-----------------+-------------+-----------------+-----------------+\n",
            "| Linear BayesianRidge |       14705.9  |    2.91107e+08 |         17061.9 |    -2.80613e+15 | 15318.8         | 3.09894e+08 | 17603.8         |    -3.48914e+15 |\n",
            "+----------------------+----------------+----------------+-----------------+-----------------+-----------------+-------------+-----------------+-----------------+\n",
            "| NN_1                 |       39102.5  |    1.82065e+09 |         42669.1 | -1155.56        | 39042.4         | 1.83706e+09 | 42860.9         | -1232.5         |\n",
            "+----------------------+----------------+----------------+-----------------+-----------------+-----------------+-------------+-----------------+-----------------+\n",
            "| NN_2                 |       39928    |    1.88535e+09 |         43420.6 |    -1.64786e+10 | 39745.7         | 1.88958e+09 | 43469.3         |    -1.70635e+10 |\n",
            "+----------------------+----------------+----------------+-----------------+-----------------+-----------------+-------------+-----------------+-----------------+\n",
            "| NN_3                 |        1831.21 |    5.70064e+06 |          2387.6 |     0.979581    |  2359.17        | 9.47655e+06 |  3078.4         |     0.967352    |\n",
            "+----------------------+----------------+----------------+-----------------+-----------------+-----------------+-------------+-----------------+-----------------+\n"
          ]
        }
      ]
    },
    {
      "cell_type": "markdown",
      "source": [
        "##Quesion 5)\n",
        "####Part 1\n",
        "ReLU is a Rectified Linear Unit which is 0 if the input is less than 0, and equal to the input if the input is greater than 0. This provides better performance as sigmoid, and has all of its advantages. Having every value less than 0 go to 0, it causes some dying 'neurons'. The leakey ReLU has a decreasing positive slope for inputs less than 0. This solves the dying issue in ReLU. The sigmoid function takes the input and gives the probabilty that it is between 0 and 1. It's main advantage is that it's simple and easy to use, however, this can cause data loss and the vanishing gradient problem.\n",
        "\n",
        "Part 2: Leaky ReLU performs better since it solves the dying issue in ReLU and has the same advantages as Sigmoid."
      ],
      "metadata": {
        "id": "Dy-F0vpNcbdI"
      }
    },
    {
      "cell_type": "code",
      "source": [
        "class mynetwork_4(nn.Module):\n",
        "  def __init__(self):\n",
        "    super(mynetwork_4, self).__init__()\n",
        "    self.structure = nn.Sequential(nn.Linear(160,100), nn.Sigmoid(), nn.Linear(100,80), nn.Sigmoid(), nn.Linear(80,50), nn.Sigmoid(), nn.Linear(50,1))\n",
        "\n",
        "  def forward(self, x):\n",
        "    x = self.structure(x)\n",
        "    return x\n",
        "  "
      ],
      "metadata": {
        "id": "WQuTz2GF8Gmu"
      },
      "execution_count": 35,
      "outputs": []
    },
    {
      "cell_type": "code",
      "source": [
        "model_4 = mynetwork_4().cuda()\n",
        "network_4, losses = train(XTrain, yTrain, model_4, num_epochs, learning_rate, batch_size, criterion, print_interval)"
      ],
      "metadata": {
        "colab": {
          "base_uri": "https://localhost:8080/"
        },
        "id": "tA9-toN-83Wq",
        "outputId": "25da0e4b-cfaa-4986-8b26-f23ebf628836"
      },
      "execution_count": 36,
      "outputs": [
        {
          "output_type": "stream",
          "name": "stdout",
          "text": [
            "epoch:   20 training loss: 4.422e+04 time:    0.4\n",
            "epoch:   40 training loss: 4.207e+04 time:    0.8\n",
            "epoch:   60 training loss: 4.515e+04 time:    1.2\n",
            "epoch:   80 training loss: 4.356e+04 time:    1.6\n",
            "epoch:  100 training loss: 4.325e+04 time:    2.0\n",
            "epoch:  120 training loss: 4.415e+04 time:    2.4\n",
            "epoch:  140 training loss: 4.412e+04 time:    2.8\n",
            "epoch:  160 training loss: 4.426e+04 time:    3.1\n",
            "epoch:  180 training loss: 4.475e+04 time:    3.5\n",
            "epoch:  200 training loss: 4.297e+04 time:    3.9\n",
            "epoch:  220 training loss: 4.429e+04 time:    4.3\n",
            "epoch:  240 training loss: 4.246e+04 time:    4.7\n",
            "epoch:  260 training loss: 4.545e+04 time:    5.1\n",
            "epoch:  280 training loss: 4.381e+04 time:    5.4\n",
            "epoch:  300 training loss: 4.406e+04 time:    5.8\n",
            "epoch:  320 training loss: 4.511e+04 time:    6.2\n",
            "epoch:  340 training loss: 4.454e+04 time:    6.6\n",
            "epoch:  360 training loss: 4.645e+04 time:    7.0\n",
            "epoch:  380 training loss: 4.503e+04 time:    7.4\n",
            "epoch:  400 training loss: 4.231e+04 time:    7.8\n",
            "epoch:  420 training loss: 4.438e+04 time:    8.2\n",
            "epoch:  440 training loss: 4.136e+04 time:    8.6\n",
            "epoch:  460 training loss: 4.499e+04 time:    9.0\n",
            "epoch:  480 training loss: 4.314e+04 time:    9.4\n"
          ]
        }
      ]
    },
    {
      "cell_type": "code",
      "source": [
        "plt.plot(losses)\n",
        "plt.grid()\n",
        "plt.xlabel(\"Epoch\")\n",
        "plt.ylabel(\"Error\")\n",
        "plt.figure()"
      ],
      "metadata": {
        "colab": {
          "base_uri": "https://localhost:8080/",
          "height": 314
        },
        "id": "2Pq44X0q9C2s",
        "outputId": "f0fa9b9c-f970-4bc0-b3b2-d92bacb63522"
      },
      "execution_count": 37,
      "outputs": [
        {
          "output_type": "execute_result",
          "data": {
            "text/plain": [
              "<Figure size 432x288 with 0 Axes>"
            ]
          },
          "metadata": {},
          "execution_count": 37
        },
        {
          "output_type": "display_data",
          "data": {
            "text/plain": [
              "<Figure size 432x288 with 1 Axes>"
            ],
            "image/png": "[encoded data removed]"
          },
          "metadata": {
            "needs_background": "light"
          }
        },
        {
          "output_type": "display_data",
          "data": {
            "text/plain": [
              "<Figure size 432x288 with 0 Axes>"
            ]
          },
          "metadata": {}
        }
      ]
    },
    {
      "cell_type": "code",
      "source": [
        "MAE_train_nn4,MSE_train_nn4,RMSE_train_nn4,R2_train_nn4,MAE_test_nn4,MSE_test_nn4,RMSE_test_nn4,R2_test_nn4=model_eva(XTrain,XTest,yTrain,yTest,network_4)\n",
        "results.append([\"NN_3_sigmoid\",MAE_train_nn4,MSE_train_nn4,RMSE_train_nn4,R2_train_nn4,MAE_test_nn4,MSE_test_nn4,RMSE_test_nn4,R2_test_nn4])\n",
        "print (tabulate(results, headers=[\"Model\", \"Training MAE\", \"Training MSE\", \"Training RMSE\", \"Training R^2\", \"Test MAE\", \"Test MSE\", \"Test RMSE\", \"Test R^2\"],tablefmt=\"grid\"))"
      ],
      "metadata": {
        "colab": {
          "base_uri": "https://localhost:8080/"
        },
        "id": "LeK76Q2H9KOR",
        "outputId": "aa8697a1-6393-48ec-930d-4284d0cbc373"
      },
      "execution_count": 38,
      "outputs": [
        {
          "output_type": "stream",
          "name": "stdout",
          "text": [
            "+----------------------+----------------+----------------+-----------------+-----------------+-----------------+-------------+-----------------+-----------------+\n",
            "| Model                |   Training MAE |   Training MSE |   Training RMSE |    Training R^2 |        Test MAE |    Test MSE |       Test RMSE |        Test R^2 |\n",
            "+======================+================+================+=================+=================+=================+=============+=================+=================+\n",
            "| Linear regression    |       10765.5  |    1.88684e+08 |         13736.2 |    -0.81852     |     1.27881e+06 | 1.35899e+14 |     1.16576e+07 |    -0.000280507 |\n",
            "+----------------------+----------------+----------------+-----------------+-----------------+-----------------+-------------+-----------------+-----------------+\n",
            "| Linear Ridge         |       14682.5  |    2.90253e+08 |         17036.8 |  -523.532       | 15361.8         | 3.11941e+08 | 17661.9         |  -633.494       |\n",
            "+----------------------+----------------+----------------+-----------------+-----------------+-----------------+-------------+-----------------+-----------------+\n",
            "| Linear Lasso         |       14673.4  |    2.90082e+08 |         17031.8 |  -363.127       | 15372.7         | 3.1278e+08  | 17685.6         |  -427.002       |\n",
            "+----------------------+----------------+----------------+-----------------+-----------------+-----------------+-------------+-----------------+-----------------+\n",
            "| Linear BayesianRidge |       14705.9  |    2.91107e+08 |         17061.9 |    -2.80613e+15 | 15318.8         | 3.09894e+08 | 17603.8         |    -3.48914e+15 |\n",
            "+----------------------+----------------+----------------+-----------------+-----------------+-----------------+-------------+-----------------+-----------------+\n",
            "| NN_1                 |       39102.5  |    1.82065e+09 |         42669.1 | -1155.56        | 39042.4         | 1.83706e+09 | 42860.9         | -1232.5         |\n",
            "+----------------------+----------------+----------------+-----------------+-----------------+-----------------+-------------+-----------------+-----------------+\n",
            "| NN_2                 |       39928    |    1.88535e+09 |         43420.6 |    -1.64786e+10 | 39745.7         | 1.88958e+09 | 43469.3         |    -1.70635e+10 |\n",
            "+----------------------+----------------+----------------+-----------------+-----------------+-----------------+-------------+-----------------+-----------------+\n",
            "| NN_3                 |        1831.21 |    5.70064e+06 |          2387.6 |     0.979581    |  2359.17        | 9.47655e+06 |  3078.4         |     0.967352    |\n",
            "+----------------------+----------------+----------------+-----------------+-----------------+-----------------+-------------+-----------------+-----------------+\n",
            "| NN_3_sigmoid         |       39971.1  |    1.88879e+09 |         43460.2 |     0           | 39788.7         | 1.893e+09   | 43508.6         |    -3.25215e+19 |\n",
            "+----------------------+----------------+----------------+-----------------+-----------------+-----------------+-------------+-----------------+-----------------+\n"
          ]
        }
      ]
    },
    {
      "cell_type": "code",
      "source": [
        "class mynetwork_5(nn.Module):\n",
        "  def __init__(self):\n",
        "    super(mynetwork_5, self).__init__()\n",
        "    self.structure = nn.Sequential(nn.Linear(160,100), nn.ReLU(), nn.Linear(100,80), nn.ReLU(), nn.Linear(80,50), nn.ReLU(), nn.Linear(50,1))\n",
        "\n",
        "  def forward(self, x):\n",
        "    x = self.structure(x)\n",
        "    return x\n",
        "  "
      ],
      "metadata": {
        "id": "FsZu4CoZ9-Dz"
      },
      "execution_count": 39,
      "outputs": []
    },
    {
      "cell_type": "code",
      "source": [
        "model_5 = mynetwork_5().cuda()\n",
        "network_5, losses = train(XTrain, yTrain, model_5, num_epochs, learning_rate, batch_size, criterion, print_interval)"
      ],
      "metadata": {
        "colab": {
          "base_uri": "https://localhost:8080/"
        },
        "id": "mbxLzJJa-OmY",
        "outputId": "453a9d5f-4c23-4830-85af-cf9b11f454d7"
      },
      "execution_count": 40,
      "outputs": [
        {
          "output_type": "stream",
          "name": "stdout",
          "text": [
            "epoch:   20 training loss: 4.380e+04 time:    0.4\n",
            "epoch:   40 training loss: 2.803e+04 time:    0.8\n",
            "epoch:   60 training loss: 2.070e+04 time:    1.2\n",
            "epoch:   80 training loss: 1.738e+04 time:    1.6\n",
            "epoch:  100 training loss: 1.510e+04 time:    2.0\n",
            "epoch:  120 training loss: 1.296e+04 time:    2.4\n",
            "epoch:  140 training loss: 1.156e+04 time:    2.8\n",
            "epoch:  160 training loss: 1.066e+04 time:    3.2\n",
            "epoch:  180 training loss: 8.482e+03 time:    3.5\n",
            "epoch:  200 training loss: 7.449e+03 time:    3.9\n",
            "epoch:  220 training loss: 6.202e+03 time:    4.3\n",
            "epoch:  240 training loss: 5.929e+03 time:    4.7\n",
            "epoch:  260 training loss: 4.991e+03 time:    5.1\n",
            "epoch:  280 training loss: 5.162e+03 time:    5.5\n",
            "epoch:  300 training loss: 4.129e+03 time:    5.9\n",
            "epoch:  320 training loss: 4.499e+03 time:    6.3\n",
            "epoch:  340 training loss: 4.243e+03 time:    6.7\n",
            "epoch:  360 training loss: 4.064e+03 time:    7.1\n",
            "epoch:  380 training loss: 4.001e+03 time:    7.5\n",
            "epoch:  400 training loss: 3.913e+03 time:    7.9\n",
            "epoch:  420 training loss: 3.770e+03 time:    8.3\n",
            "epoch:  440 training loss: 3.826e+03 time:    8.7\n",
            "epoch:  460 training loss: 3.311e+03 time:    9.1\n",
            "epoch:  480 training loss: 3.416e+03 time:    9.5\n"
          ]
        }
      ]
    },
    {
      "cell_type": "code",
      "source": [
        "plt.plot(losses)\n",
        "plt.grid()\n",
        "plt.xlabel(\"Epoch\")\n",
        "plt.ylabel(\"Error\")\n",
        "plt.figure()"
      ],
      "metadata": {
        "colab": {
          "base_uri": "https://localhost:8080/",
          "height": 314
        },
        "id": "aoJrtfFS-ZvV",
        "outputId": "7dcf3e4a-d564-4d57-d330-003861bffae1"
      },
      "execution_count": 41,
      "outputs": [
        {
          "output_type": "execute_result",
          "data": {
            "text/plain": [
              "<Figure size 432x288 with 0 Axes>"
            ]
          },
          "metadata": {},
          "execution_count": 41
        },
        {
          "output_type": "display_data",
          "data": {
            "text/plain": [
              "<Figure size 432x288 with 1 Axes>"
            ],
            "image/png": "[encoded data removed]"
          },
          "metadata": {
            "needs_background": "light"
          }
        },
        {
          "output_type": "display_data",
          "data": {
            "text/plain": [
              "<Figure size 432x288 with 0 Axes>"
            ]
          },
          "metadata": {}
        }
      ]
    },
    {
      "cell_type": "code",
      "source": [
        "MAE_train_nn5,MSE_train_nn5,RMSE_train_nn5,R2_train_nn5,MAE_test_nn5,MSE_test_nn5,RMSE_test_nn5,R2_test_nn5=model_eva(XTrain,XTest,yTrain,yTest,network_5)\n",
        "results.append([\"NN_3_relu\",MAE_train_nn5,MSE_train_nn5,RMSE_train_nn5,R2_train_nn5,MAE_test_nn5,MSE_test_nn5,RMSE_test_nn5,R2_test_nn5])\n",
        "print (tabulate(results, headers=[\"Model\", \"Training MAE\", \"Training MSE\", \"Training RMSE\", \"Training R^2\", \"Test MAE\", \"Test MSE\", \"Test RMSE\", \"Test R^2\"],tablefmt=\"grid\"))"
      ],
      "metadata": {
        "colab": {
          "base_uri": "https://localhost:8080/"
        },
        "id": "UJ9r9wup-i-S",
        "outputId": "bde91317-170f-41a8-b682-82711284e017"
      },
      "execution_count": 42,
      "outputs": [
        {
          "output_type": "stream",
          "name": "stdout",
          "text": [
            "+----------------------+----------------+----------------+-----------------+-----------------+-----------------+-------------+-----------------+-----------------+\n",
            "| Model                |   Training MAE |   Training MSE |   Training RMSE |    Training R^2 |        Test MAE |    Test MSE |       Test RMSE |        Test R^2 |\n",
            "+======================+================+================+=================+=================+=================+=============+=================+=================+\n",
            "| Linear regression    |       10765.5  |    1.88684e+08 |        13736.2  |    -0.81852     |     1.27881e+06 | 1.35899e+14 |     1.16576e+07 |    -0.000280507 |\n",
            "+----------------------+----------------+----------------+-----------------+-----------------+-----------------+-------------+-----------------+-----------------+\n",
            "| Linear Ridge         |       14682.5  |    2.90253e+08 |        17036.8  |  -523.532       | 15361.8         | 3.11941e+08 | 17661.9         |  -633.494       |\n",
            "+----------------------+----------------+----------------+-----------------+-----------------+-----------------+-------------+-----------------+-----------------+\n",
            "| Linear Lasso         |       14673.4  |    2.90082e+08 |        17031.8  |  -363.127       | 15372.7         | 3.1278e+08  | 17685.6         |  -427.002       |\n",
            "+----------------------+----------------+----------------+-----------------+-----------------+-----------------+-------------+-----------------+-----------------+\n",
            "| Linear BayesianRidge |       14705.9  |    2.91107e+08 |        17061.9  |    -2.80613e+15 | 15318.8         | 3.09894e+08 | 17603.8         |    -3.48914e+15 |\n",
            "+----------------------+----------------+----------------+-----------------+-----------------+-----------------+-------------+-----------------+-----------------+\n",
            "| NN_1                 |       39102.5  |    1.82065e+09 |        42669.1  | -1155.56        | 39042.4         | 1.83706e+09 | 42860.9         | -1232.5         |\n",
            "+----------------------+----------------+----------------+-----------------+-----------------+-----------------+-------------+-----------------+-----------------+\n",
            "| NN_2                 |       39928    |    1.88535e+09 |        43420.6  |    -1.64786e+10 | 39745.7         | 1.88958e+09 | 43469.3         |    -1.70635e+10 |\n",
            "+----------------------+----------------+----------------+-----------------+-----------------+-----------------+-------------+-----------------+-----------------+\n",
            "| NN_3                 |        1831.21 |    5.70064e+06 |         2387.6  |     0.979581    |  2359.17        | 9.47655e+06 |  3078.4         |     0.967352    |\n",
            "+----------------------+----------------+----------------+-----------------+-----------------+-----------------+-------------+-----------------+-----------------+\n",
            "| NN_3_sigmoid         |       39971.1  |    1.88879e+09 |        43460.2  |     0           | 39788.7         | 1.893e+09   | 43508.6         |    -3.25215e+19 |\n",
            "+----------------------+----------------+----------------+-----------------+-----------------+-----------------+-------------+-----------------+-----------------+\n",
            "| NN_3_relu            |        2661.72 |    1.08804e+07 |         3298.54 |     0.958419    |  3074.05        | 1.4749e+07  |  3840.45        |     0.945415    |\n",
            "+----------------------+----------------+----------------+-----------------+-----------------+-----------------+-------------+-----------------+-----------------+\n"
          ]
        }
      ]
    },
    {
      "cell_type": "markdown",
      "source": [
        "####Quesion 6)"
      ],
      "metadata": {
        "id": "yDVftamjc5xB"
      }
    },
    {
      "cell_type": "code",
      "source": [
        "class mynetwork_6(nn.Module):\n",
        "  def __init__(self):\n",
        "    super(mynetwork_6, self).__init__()\n",
        "    self.structure = nn.Sequential(nn.Linear(160, 100), nn.Sigmoid(), nn.Linear(100, 80), nn.ReLU(), nn.Linear(80,50), nn.LeakyReLU(), nn.Linear(50,1))\n",
        "  \n",
        "  def forward(self, x):\n",
        "    x = self.structure(x)\n",
        "    return x"
      ],
      "metadata": {
        "id": "8T4moliZ_hLG"
      },
      "execution_count": 43,
      "outputs": []
    },
    {
      "cell_type": "code",
      "source": [
        "class mynetwork_7(nn.Module):\n",
        "  def __init__(self):\n",
        "    super(mynetwork_7, self).__init__()\n",
        "    self.structure = nn.Sequential(nn.Linear(160, 100), nn.Sigmoid(), nn.Linear(100, 80), nn.ReLU(), nn.Linear(80,50), nn.LeakyReLU(), nn.Linear(50,50), nn.LeakyReLU(), nn.Linear(50,1))\n",
        "  def forward(self, x):\n",
        "    x = self.structure(x)\n",
        "    return x"
      ],
      "metadata": {
        "id": "5C13jnEL_mMD"
      },
      "execution_count": 44,
      "outputs": []
    },
    {
      "cell_type": "code",
      "source": [
        "torch.manual_seed(50)\n",
        "\n",
        "model_6 = mynetwork_6().cuda()\n",
        "model_7 = mynetwork_7().cuda()\n",
        "\n",
        "\n",
        "batch_size = 250\n",
        "num_epochs = 1000\n",
        "learning_rate = 1e-4\n",
        "criterion = nn.MSELoss()\n",
        "\n",
        "print_interval=20"
      ],
      "metadata": {
        "id": "qdcU57LHBkr5"
      },
      "execution_count": 45,
      "outputs": []
    },
    {
      "cell_type": "code",
      "source": [
        "network_6, losses = train(XTrain, yTrain, model_6, num_epochs, learning_rate, batch_size, criterion, print_interval)"
      ],
      "metadata": {
        "colab": {
          "base_uri": "https://localhost:8080/"
        },
        "id": "UYmxIj0ZB52j",
        "outputId": "3493f96e-45b0-4a7a-ce22-5ac11afbbeb2"
      },
      "execution_count": 46,
      "outputs": [
        {
          "output_type": "stream",
          "name": "stdout",
          "text": [
            "epoch:   20 training loss: 4.474e+04 time:    0.3\n",
            "epoch:   40 training loss: 4.297e+04 time:    0.6\n",
            "epoch:   60 training loss: 4.248e+04 time:    0.8\n",
            "epoch:   80 training loss: 4.360e+04 time:    1.1\n",
            "epoch:  100 training loss: 4.277e+04 time:    1.3\n",
            "epoch:  120 training loss: 4.314e+04 time:    1.5\n",
            "epoch:  140 training loss: 4.202e+04 time:    1.8\n",
            "epoch:  160 training loss: 4.099e+04 time:    2.0\n",
            "epoch:  180 training loss: 4.131e+04 time:    2.3\n",
            "epoch:  200 training loss: 4.413e+04 time:    2.5\n",
            "epoch:  220 training loss: 4.217e+04 time:    2.8\n",
            "epoch:  240 training loss: 4.384e+04 time:    3.0\n",
            "epoch:  260 training loss: 4.203e+04 time:    3.2\n",
            "epoch:  280 training loss: 4.522e+04 time:    3.5\n",
            "epoch:  300 training loss: 4.590e+04 time:    3.7\n",
            "epoch:  320 training loss: 4.443e+04 time:    3.9\n",
            "epoch:  340 training loss: 4.313e+04 time:    4.2\n",
            "epoch:  360 training loss: 4.151e+04 time:    4.4\n",
            "epoch:  380 training loss: 4.353e+04 time:    4.6\n",
            "epoch:  400 training loss: 4.461e+04 time:    5.0\n",
            "epoch:  420 training loss: 4.470e+04 time:    5.2\n",
            "epoch:  440 training loss: 4.025e+04 time:    5.4\n",
            "epoch:  460 training loss: 3.984e+04 time:    5.7\n",
            "epoch:  480 training loss: 4.228e+04 time:    5.9\n",
            "epoch:  500 training loss: 4.338e+04 time:    6.2\n",
            "epoch:  520 training loss: 4.128e+04 time:    6.4\n",
            "epoch:  540 training loss: 4.138e+04 time:    6.6\n",
            "epoch:  560 training loss: 4.347e+04 time:    6.9\n",
            "epoch:  580 training loss: 4.185e+04 time:    7.1\n",
            "epoch:  600 training loss: 4.199e+04 time:    7.4\n",
            "epoch:  620 training loss: 4.245e+04 time:    7.6\n",
            "epoch:  640 training loss: 4.361e+04 time:    7.9\n",
            "epoch:  660 training loss: 4.149e+04 time:    8.1\n",
            "epoch:  680 training loss: 4.133e+04 time:    8.3\n",
            "epoch:  700 training loss: 4.115e+04 time:    8.6\n",
            "epoch:  720 training loss: 4.043e+04 time:    8.8\n",
            "epoch:  740 training loss: 4.273e+04 time:    9.1\n",
            "epoch:  760 training loss: 3.982e+04 time:    9.3\n",
            "epoch:  780 training loss: 3.988e+04 time:    9.6\n",
            "epoch:  800 training loss: 3.578e+04 time:    9.9\n",
            "epoch:  820 training loss: 3.863e+04 time:   10.1\n",
            "epoch:  840 training loss: 3.657e+04 time:   10.3\n",
            "epoch:  860 training loss: 4.079e+04 time:   10.6\n",
            "epoch:  880 training loss: 3.738e+04 time:   10.8\n",
            "epoch:  900 training loss: 3.797e+04 time:   11.1\n",
            "epoch:  920 training loss: 3.569e+04 time:   11.3\n",
            "epoch:  940 training loss: 3.775e+04 time:   11.5\n",
            "epoch:  960 training loss: 3.754e+04 time:   11.8\n",
            "epoch:  980 training loss: 3.674e+04 time:   12.0\n"
          ]
        }
      ]
    },
    {
      "cell_type": "code",
      "source": [
        "plt.plot(losses)\n",
        "plt.grid()\n",
        "plt.xlabel(\"Epoch\")\n",
        "plt.ylabel(\"Error\")\n",
        "plt.figure()"
      ],
      "metadata": {
        "colab": {
          "base_uri": "https://localhost:8080/",
          "height": 317
        },
        "id": "wBd7k9upCWF7",
        "outputId": "a08ccb17-5866-4520-ff64-500514ef1ced"
      },
      "execution_count": 47,
      "outputs": [
        {
          "output_type": "execute_result",
          "data": {
            "text/plain": [
              "<Figure size 432x288 with 0 Axes>"
            ]
          },
          "metadata": {},
          "execution_count": 47
        },
        {
          "output_type": "display_data",
          "data": {
            "text/plain": [
              "<Figure size 432x288 with 1 Axes>"
            ],
            "image/png": "[encoded data removed]"
          },
          "metadata": {
            "needs_background": "light"
          }
        },
        {
          "output_type": "display_data",
          "data": {
            "text/plain": [
              "<Figure size 432x288 with 0 Axes>"
            ]
          },
          "metadata": {}
        }
      ]
    },
    {
      "cell_type": "code",
      "source": [
        "network_7, losses = train(XTrain, yTrain, model_7, num_epochs, learning_rate, batch_size, criterion, print_interval)"
      ],
      "metadata": {
        "colab": {
          "base_uri": "https://localhost:8080/"
        },
        "id": "M_gjD5fpCeAy",
        "outputId": "39611824-903d-487d-aaed-38c2dc701037"
      },
      "execution_count": 48,
      "outputs": [
        {
          "output_type": "stream",
          "name": "stdout",
          "text": [
            "epoch:   20 training loss: 4.339e+04 time:    0.3\n",
            "epoch:   40 training loss: 4.273e+04 time:    0.5\n",
            "epoch:   60 training loss: 4.364e+04 time:    0.8\n",
            "epoch:   80 training loss: 4.164e+04 time:    1.1\n",
            "epoch:  100 training loss: 4.116e+04 time:    1.4\n",
            "epoch:  120 training loss: 4.054e+04 time:    1.6\n",
            "epoch:  140 training loss: 4.040e+04 time:    1.9\n",
            "epoch:  160 training loss: 4.281e+04 time:    2.2\n",
            "epoch:  180 training loss: 4.486e+04 time:    2.5\n",
            "epoch:  200 training loss: 4.120e+04 time:    2.8\n",
            "epoch:  220 training loss: 4.355e+04 time:    3.0\n",
            "epoch:  240 training loss: 4.313e+04 time:    3.3\n",
            "epoch:  260 training loss: 4.220e+04 time:    3.6\n",
            "epoch:  280 training loss: 4.409e+04 time:    3.9\n",
            "epoch:  300 training loss: 4.021e+04 time:    4.1\n",
            "epoch:  320 training loss: 3.888e+04 time:    4.4\n",
            "epoch:  340 training loss: 3.897e+04 time:    4.7\n",
            "epoch:  360 training loss: 4.066e+04 time:    5.0\n",
            "epoch:  380 training loss: 3.738e+04 time:    5.2\n",
            "epoch:  400 training loss: 3.593e+04 time:    5.5\n",
            "epoch:  420 training loss: 3.910e+04 time:    5.8\n",
            "epoch:  440 training loss: 3.361e+04 time:    6.0\n",
            "epoch:  460 training loss: 3.269e+04 time:    6.3\n",
            "epoch:  480 training loss: 3.120e+04 time:    6.6\n",
            "epoch:  500 training loss: 3.041e+04 time:    6.8\n",
            "epoch:  520 training loss: 2.869e+04 time:    7.1\n",
            "epoch:  540 training loss: 2.428e+04 time:    7.4\n",
            "epoch:  560 training loss: 2.670e+04 time:    7.6\n",
            "epoch:  580 training loss: 2.298e+04 time:    8.0\n",
            "epoch:  600 training loss: 2.226e+04 time:    8.2\n",
            "epoch:  620 training loss: 2.260e+04 time:    8.5\n",
            "epoch:  640 training loss: 2.056e+04 time:    8.8\n",
            "epoch:  660 training loss: 1.902e+04 time:    9.1\n",
            "epoch:  680 training loss: 1.845e+04 time:    9.3\n",
            "epoch:  700 training loss: 1.855e+04 time:    9.6\n",
            "epoch:  720 training loss: 1.958e+04 time:    9.8\n",
            "epoch:  740 training loss: 1.633e+04 time:   10.1\n",
            "epoch:  760 training loss: 1.692e+04 time:   10.4\n",
            "epoch:  780 training loss: 1.739e+04 time:   10.7\n",
            "epoch:  800 training loss: 1.634e+04 time:   10.9\n",
            "epoch:  820 training loss: 1.690e+04 time:   11.2\n",
            "epoch:  840 training loss: 1.511e+04 time:   11.5\n",
            "epoch:  860 training loss: 1.725e+04 time:   11.7\n",
            "epoch:  880 training loss: 1.654e+04 time:   12.0\n",
            "epoch:  900 training loss: 1.768e+04 time:   12.2\n",
            "epoch:  920 training loss: 1.820e+04 time:   12.5\n",
            "epoch:  940 training loss: 1.665e+04 time:   12.8\n",
            "epoch:  960 training loss: 1.670e+04 time:   13.1\n",
            "epoch:  980 training loss: 1.673e+04 time:   13.4\n"
          ]
        }
      ]
    },
    {
      "cell_type": "code",
      "source": [
        "plt.plot(losses)\n",
        "plt.grid()\n",
        "plt.xlabel(\"Epoch\")\n",
        "plt.ylabel(\"Error\")\n",
        "plt.figure()"
      ],
      "metadata": {
        "colab": {
          "base_uri": "https://localhost:8080/",
          "height": 318
        },
        "id": "_BEi9ovrCrYl",
        "outputId": "da385b5e-6939-4458-a198-ac67dc94d5e4"
      },
      "execution_count": 49,
      "outputs": [
        {
          "output_type": "execute_result",
          "data": {
            "text/plain": [
              "<Figure size 432x288 with 0 Axes>"
            ]
          },
          "metadata": {},
          "execution_count": 49
        },
        {
          "output_type": "display_data",
          "data": {
            "text/plain": [
              "<Figure size 432x288 with 1 Axes>"
            ],
            "image/png": "[encoded data removed]"
          },
          "metadata": {
            "needs_background": "light"
          }
        },
        {
          "output_type": "display_data",
          "data": {
            "text/plain": [
              "<Figure size 432x288 with 0 Axes>"
            ]
          },
          "metadata": {}
        }
      ]
    },
    {
      "cell_type": "code",
      "source": [
        "class mynetwork_8(nn.Module):\n",
        "  def __init__(self):\n",
        "    super(mynetwork_8, self).__init__()\n",
        "    self.structure = nn.Sequential(nn.Linear(160, 100), nn.LeakyReLU(), nn.Linear(100, 80), nn.ReLU(), nn.Linear(80,50), nn.LeakyReLU(), nn.Linear(50,50), nn.LeakyReLU(), nn.Linear(50,1))\n",
        "  def forward(self, x):\n",
        "    x = self.structure(x)\n",
        "    return x"
      ],
      "metadata": {
        "id": "zzily0IiCy2e"
      },
      "execution_count": 50,
      "outputs": []
    },
    {
      "cell_type": "code",
      "source": [
        "network_6, losses = train(XTrain, yTrain, model_6, num_epochs, learning_rate, batch_size, criterion, print_interval)"
      ],
      "metadata": {
        "colab": {
          "base_uri": "https://localhost:8080/"
        },
        "id": "rac-_yCaC_p5",
        "outputId": "7275a49a-945f-4ba5-df07-451cd5ba97cc"
      },
      "execution_count": 51,
      "outputs": [
        {
          "output_type": "stream",
          "name": "stdout",
          "text": [
            "epoch:   20 training loss: 3.657e+04 time:    0.2\n",
            "epoch:   40 training loss: 3.581e+04 time:    0.5\n",
            "epoch:   60 training loss: 3.612e+04 time:    0.7\n",
            "epoch:   80 training loss: 3.591e+04 time:    1.0\n",
            "epoch:  100 training loss: 3.572e+04 time:    1.2\n",
            "epoch:  120 training loss: 3.466e+04 time:    1.5\n",
            "epoch:  140 training loss: 3.506e+04 time:    1.7\n",
            "epoch:  160 training loss: 3.555e+04 time:    1.9\n",
            "epoch:  180 training loss: 3.512e+04 time:    2.2\n",
            "epoch:  200 training loss: 3.316e+04 time:    2.4\n",
            "epoch:  220 training loss: 3.298e+04 time:    2.7\n",
            "epoch:  240 training loss: 3.349e+04 time:    2.9\n",
            "epoch:  260 training loss: 3.040e+04 time:    3.2\n",
            "epoch:  280 training loss: 3.325e+04 time:    3.4\n",
            "epoch:  300 training loss: 2.996e+04 time:    3.7\n",
            "epoch:  320 training loss: 2.964e+04 time:    3.9\n",
            "epoch:  340 training loss: 3.020e+04 time:    4.2\n",
            "epoch:  360 training loss: 3.048e+04 time:    4.5\n",
            "epoch:  380 training loss: 2.633e+04 time:    4.7\n",
            "epoch:  400 training loss: 2.937e+04 time:    5.0\n",
            "epoch:  420 training loss: 2.880e+04 time:    5.2\n",
            "epoch:  440 training loss: 2.774e+04 time:    5.5\n",
            "epoch:  460 training loss: 2.945e+04 time:    5.7\n",
            "epoch:  480 training loss: 2.706e+04 time:    5.9\n",
            "epoch:  500 training loss: 2.706e+04 time:    6.2\n",
            "epoch:  520 training loss: 2.482e+04 time:    6.4\n",
            "epoch:  540 training loss: 2.724e+04 time:    6.7\n",
            "epoch:  560 training loss: 2.369e+04 time:    6.9\n",
            "epoch:  580 training loss: 2.534e+04 time:    7.1\n",
            "epoch:  600 training loss: 2.466e+04 time:    7.4\n",
            "epoch:  620 training loss: 2.311e+04 time:    7.6\n",
            "epoch:  640 training loss: 2.295e+04 time:    7.9\n",
            "epoch:  660 training loss: 2.145e+04 time:    8.1\n",
            "epoch:  680 training loss: 2.331e+04 time:    8.3\n",
            "epoch:  700 training loss: 2.275e+04 time:    8.6\n",
            "epoch:  720 training loss: 2.105e+04 time:    8.8\n",
            "epoch:  740 training loss: 2.012e+04 time:    9.1\n",
            "epoch:  760 training loss: 2.249e+04 time:    9.4\n",
            "epoch:  780 training loss: 2.036e+04 time:    9.6\n",
            "epoch:  800 training loss: 1.992e+04 time:    9.8\n",
            "epoch:  820 training loss: 2.078e+04 time:   10.1\n",
            "epoch:  840 training loss: 1.857e+04 time:   10.3\n",
            "epoch:  860 training loss: 2.021e+04 time:   10.6\n",
            "epoch:  880 training loss: 1.915e+04 time:   10.8\n",
            "epoch:  900 training loss: 2.022e+04 time:   11.0\n",
            "epoch:  920 training loss: 1.803e+04 time:   11.3\n",
            "epoch:  940 training loss: 1.895e+04 time:   11.5\n",
            "epoch:  960 training loss: 1.742e+04 time:   11.7\n",
            "epoch:  980 training loss: 1.646e+04 time:   12.0\n"
          ]
        }
      ]
    },
    {
      "cell_type": "code",
      "source": [
        "plt.plot(losses)\n",
        "plt.grid()\n",
        "plt.xlabel(\"Epoch\")\n",
        "plt.ylabel(\"Error\")\n",
        "plt.figure()"
      ],
      "metadata": {
        "colab": {
          "base_uri": "https://localhost:8080/",
          "height": 314
        },
        "id": "XLZsRbTdDISi",
        "outputId": "57ca91e2-576f-473a-e5c7-3e8a6034c228"
      },
      "execution_count": 52,
      "outputs": [
        {
          "output_type": "execute_result",
          "data": {
            "text/plain": [
              "<Figure size 432x288 with 0 Axes>"
            ]
          },
          "metadata": {},
          "execution_count": 52
        },
        {
          "output_type": "display_data",
          "data": {
            "text/plain": [
              "<Figure size 432x288 with 1 Axes>"
            ],
            "image/png": "[encoded data removed]"
          },
          "metadata": {
            "needs_background": "light"
          }
        },
        {
          "output_type": "display_data",
          "data": {
            "text/plain": [
              "<Figure size 432x288 with 0 Axes>"
            ]
          },
          "metadata": {}
        }
      ]
    },
    {
      "cell_type": "code",
      "source": [
        "torch.manual_seed(50)\n",
        "\n",
        "#model_6 = mynetwork_6().cuda()\n",
        "model_8 = mynetwork_8().cuda()\n",
        "\n",
        "\n",
        "batch_size = 50\n",
        "num_epochs = 2000\n",
        "learning_rate = 1e-4\n",
        "criterion = nn.MSELoss()\n",
        "\n",
        "print_interval=100"
      ],
      "metadata": {
        "id": "8IKQs6mpDSua"
      },
      "execution_count": 53,
      "outputs": []
    },
    {
      "cell_type": "code",
      "source": [
        "network_6, losses = train(XTrain, yTrain, model_6, num_epochs, learning_rate, batch_size, criterion, print_interval)"
      ],
      "metadata": {
        "colab": {
          "base_uri": "https://localhost:8080/"
        },
        "id": "1-6KavdyDeB8",
        "outputId": "26eed7d2-0723-4867-e245-58c9a96c59c2"
      },
      "execution_count": 54,
      "outputs": [
        {
          "output_type": "stream",
          "name": "stdout",
          "text": [
            "epoch:  100 training loss: 1.788e+04 time:    3.6\n",
            "epoch:  200 training loss: 1.747e+04 time:    7.1\n",
            "epoch:  300 training loss: 1.609e+04 time:   11.5\n",
            "epoch:  400 training loss: 1.592e+04 time:   15.0\n",
            "epoch:  500 training loss: 1.739e+04 time:   18.5\n",
            "epoch:  600 training loss: 1.475e+04 time:   22.5\n",
            "epoch:  700 training loss: 1.617e+04 time:   26.0\n",
            "epoch:  800 training loss: 1.538e+04 time:   29.5\n",
            "epoch:  900 training loss: 1.473e+04 time:   33.0\n",
            "epoch: 1000 training loss: 1.375e+04 time:   36.5\n",
            "epoch: 1100 training loss: 1.385e+04 time:   40.0\n",
            "epoch: 1200 training loss: 1.371e+04 time:   43.6\n",
            "epoch: 1300 training loss: 1.371e+04 time:   47.1\n",
            "epoch: 1400 training loss: 1.379e+04 time:   50.6\n",
            "epoch: 1500 training loss: 1.317e+04 time:   54.2\n",
            "epoch: 1600 training loss: 1.257e+04 time:   57.7\n",
            "epoch: 1700 training loss: 1.141e+04 time:   61.3\n",
            "epoch: 1800 training loss: 1.051e+04 time:   64.8\n",
            "epoch: 1900 training loss: 1.112e+04 time:   68.3\n"
          ]
        }
      ]
    },
    {
      "cell_type": "code",
      "source": [
        "plt.plot(losses)\n",
        "plt.grid()\n",
        "plt.xlabel(\"Epoch\")\n",
        "plt.ylabel(\"Error\")\n",
        "plt.figure()"
      ],
      "metadata": {
        "colab": {
          "base_uri": "https://localhost:8080/",
          "height": 314
        },
        "id": "gxU-uELQDygn",
        "outputId": "984e184e-6fd9-447e-dc83-dc69091dd3bd"
      },
      "execution_count": 55,
      "outputs": [
        {
          "output_type": "execute_result",
          "data": {
            "text/plain": [
              "<Figure size 432x288 with 0 Axes>"
            ]
          },
          "metadata": {},
          "execution_count": 55
        },
        {
          "output_type": "display_data",
          "data": {
            "text/plain": [
              "<Figure size 432x288 with 1 Axes>"
            ],
            "image/png": "[encoded data removed]"
          },
          "metadata": {
            "needs_background": "light"
          }
        },
        {
          "output_type": "display_data",
          "data": {
            "text/plain": [
              "<Figure size 432x288 with 0 Axes>"
            ]
          },
          "metadata": {}
        }
      ]
    },
    {
      "cell_type": "code",
      "source": [
        "network_8, losses = train(XTrain, yTrain, model_8, num_epochs, learning_rate, batch_size, criterion, print_interval)"
      ],
      "metadata": {
        "colab": {
          "base_uri": "https://localhost:8080/"
        },
        "id": "ybb61U1jD5kB",
        "outputId": "724f12e0-57a2-4e32-f6bb-239daff76cb9"
      },
      "execution_count": 56,
      "outputs": [
        {
          "output_type": "stream",
          "name": "stdout",
          "text": [
            "epoch:  100 training loss: 2.688e+04 time:    4.1\n",
            "epoch:  200 training loss: 1.709e+04 time:    8.2\n",
            "epoch:  300 training loss: 1.239e+04 time:   12.6\n",
            "epoch:  400 training loss: 9.530e+03 time:   22.5\n",
            "epoch:  500 training loss: 7.377e+03 time:   31.6\n",
            "epoch:  600 training loss: 5.175e+03 time:   38.7\n",
            "epoch:  700 training loss: 4.159e+03 time:   46.1\n",
            "epoch:  800 training loss: 3.391e+03 time:   50.7\n",
            "epoch:  900 training loss: 3.439e+03 time:   54.9\n",
            "epoch: 1000 training loss: 2.927e+03 time:   58.9\n",
            "epoch: 1100 training loss: 2.343e+03 time:   65.2\n",
            "epoch: 1200 training loss: 2.109e+03 time:   69.5\n",
            "epoch: 1300 training loss: 1.795e+03 time:   73.6\n",
            "epoch: 1400 training loss: 1.498e+03 time:   77.6\n",
            "epoch: 1500 training loss: 1.725e+03 time:   81.7\n",
            "epoch: 1600 training loss: 1.127e+03 time:   85.7\n",
            "epoch: 1700 training loss: 9.008e+02 time:   89.8\n",
            "epoch: 1800 training loss: 8.257e+02 time:   93.8\n",
            "epoch: 1900 training loss: 7.305e+02 time:   97.8\n"
          ]
        }
      ]
    },
    {
      "cell_type": "code",
      "source": [
        "plt.plot(losses)\n",
        "plt.grid()\n",
        "plt.xlabel(\"Epoch\")\n",
        "plt.ylabel(\"Error\")\n",
        "plt.figure()"
      ],
      "metadata": {
        "colab": {
          "base_uri": "https://localhost:8080/",
          "height": 314
        },
        "id": "k9Ejl0z_E9Ei",
        "outputId": "d19fe28e-a6f7-46ea-ccd6-8c18fbe63a2f"
      },
      "execution_count": 57,
      "outputs": [
        {
          "output_type": "execute_result",
          "data": {
            "text/plain": [
              "<Figure size 432x288 with 0 Axes>"
            ]
          },
          "metadata": {},
          "execution_count": 57
        },
        {
          "output_type": "display_data",
          "data": {
            "text/plain": [
              "<Figure size 432x288 with 1 Axes>"
            ],
            "image/png": "[encoded data removed]"
          },
          "metadata": {
            "needs_background": "light"
          }
        },
        {
          "output_type": "display_data",
          "data": {
            "text/plain": [
              "<Figure size 432x288 with 0 Axes>"
            ]
          },
          "metadata": {}
        }
      ]
    },
    {
      "cell_type": "code",
      "source": [
        "MAE_train_nn6,MSE_train_nn6,RMSE_train_nn6,R2_train_nn6,MAE_test_nn6,MSE_test_nn6,RMSE_test_nn6,R2_test_nn6=model_eva(XTrain,XTest,yTrain,yTest,network_6)\n",
        "MAE_train_nn7,MSE_train_nn7,RMSE_train_nn7,R2_train_nn7,MAE_test_nn7,MSE_test_nn7,RMSE_test_nn7,R2_test_nn7=model_eva(XTrain,XTest,yTrain,yTest,network_7)\n",
        "MAE_train_nn8,MSE_train_nn8,RMSE_train_nn8,R2_train_nn8,MAE_test_nn8,MSE_test_nn8,RMSE_test_nn8,R2_test_nn8=model_eva(XTrain,XTest,yTrain,yTest,network_8)\n",
        "\n",
        "results.append([\"Your NN 1\",MAE_train_nn6,MSE_train_nn6,RMSE_train_nn6,R2_train_nn6,MAE_test_nn6,MSE_test_nn6,RMSE_test_nn6,R2_test_nn6])\n",
        "results.append([\"Your NN 2\",MAE_train_nn7,MSE_train_nn7,RMSE_train_nn7,R2_train_nn7,MAE_test_nn7,MSE_test_nn7,RMSE_test_nn7,R2_test_nn7])\n",
        "results.append([\"Your NN 3\",MAE_train_nn8,MSE_train_nn8,RMSE_train_nn8,R2_train_nn8,MAE_test_nn8,MSE_test_nn8,RMSE_test_nn8,R2_test_nn8])\n"
      ],
      "metadata": {
        "id": "mi9MFsmzFMvb"
      },
      "execution_count": 58,
      "outputs": []
    },
    {
      "cell_type": "code",
      "source": [
        "print (tabulate(results, headers=[\"Model\", \"Training MAE\", \"Training MSE\", \"Training RMSE\", \"Training R^2\", \"Test MAE\", \"Test MSE\", \"Test RMSE\", \"Test R^2\"],tablefmt=\"grid\"))"
      ],
      "metadata": {
        "colab": {
          "base_uri": "https://localhost:8080/"
        },
        "id": "6jW8RRkyGZMY",
        "outputId": "de63372d-8e27-4576-8b41-bb017ee3081b"
      },
      "execution_count": 59,
      "outputs": [
        {
          "output_type": "stream",
          "name": "stdout",
          "text": [
            "+----------------------+----------------+------------------+-----------------+-----------------+-----------------+-------------+-----------------+-----------------+\n",
            "| Model                |   Training MAE |     Training MSE |   Training RMSE |    Training R^2 |        Test MAE |    Test MSE |       Test RMSE |        Test R^2 |\n",
            "+======================+================+==================+=================+=================+=================+=============+=================+=================+\n",
            "| Linear regression    |      10765.5   |      1.88684e+08 |        13736.2  |    -0.81852     |     1.27881e+06 | 1.35899e+14 |     1.16576e+07 |    -0.000280507 |\n",
            "+----------------------+----------------+------------------+-----------------+-----------------+-----------------+-------------+-----------------+-----------------+\n",
            "| Linear Ridge         |      14682.5   |      2.90253e+08 |        17036.8  |  -523.532       | 15361.8         | 3.11941e+08 | 17661.9         |  -633.494       |\n",
            "+----------------------+----------------+------------------+-----------------+-----------------+-----------------+-------------+-----------------+-----------------+\n",
            "| Linear Lasso         |      14673.4   |      2.90082e+08 |        17031.8  |  -363.127       | 15372.7         | 3.1278e+08  | 17685.6         |  -427.002       |\n",
            "+----------------------+----------------+------------------+-----------------+-----------------+-----------------+-------------+-----------------+-----------------+\n",
            "| Linear BayesianRidge |      14705.9   |      2.91107e+08 |        17061.9  |    -2.80613e+15 | 15318.8         | 3.09894e+08 | 17603.8         |    -3.48914e+15 |\n",
            "+----------------------+----------------+------------------+-----------------+-----------------+-----------------+-------------+-----------------+-----------------+\n",
            "| NN_1                 |      39102.5   |      1.82065e+09 |        42669.1  | -1155.56        | 39042.4         | 1.83706e+09 | 42860.9         | -1232.5         |\n",
            "+----------------------+----------------+------------------+-----------------+-----------------+-----------------+-------------+-----------------+-----------------+\n",
            "| NN_2                 |      39928     |      1.88535e+09 |        43420.6  |    -1.64786e+10 | 39745.7         | 1.88958e+09 | 43469.3         |    -1.70635e+10 |\n",
            "+----------------------+----------------+------------------+-----------------+-----------------+-----------------+-------------+-----------------+-----------------+\n",
            "| NN_3                 |       1831.21  |      5.70064e+06 |         2387.6  |     0.979581    |  2359.17        | 9.47655e+06 |  3078.4         |     0.967352    |\n",
            "+----------------------+----------------+------------------+-----------------+-----------------+-----------------+-------------+-----------------+-----------------+\n",
            "| NN_3_sigmoid         |      39971.1   |      1.88879e+09 |        43460.2  |     0           | 39788.7         | 1.893e+09   | 43508.6         |    -3.25215e+19 |\n",
            "+----------------------+----------------+------------------+-----------------+-----------------+-----------------+-------------+-----------------+-----------------+\n",
            "| NN_3_relu            |       2661.72  |      1.08804e+07 |         3298.54 |     0.958419    |  3074.05        | 1.4749e+07  |  3840.45        |     0.945415    |\n",
            "+----------------------+----------------+------------------+-----------------+-----------------+-----------------+-------------+-----------------+-----------------+\n",
            "| Your NN 1            |       9211.46  |      1.27192e+08 |        11277.9  |    -2.22848     |  9743.35        | 1.40688e+08 | 11861.2         |    -2.54797     |\n",
            "+----------------------+----------------+------------------+-----------------+-----------------+-----------------+-------------+-----------------+-----------------+\n",
            "| Your NN 2            |      14688.9   |      2.90584e+08 |        17046.5  |  -526.661       | 15349.7         | 3.1126e+08  | 17642.6         |  -605.548       |\n",
            "+----------------------+----------------+------------------+-----------------+-----------------+-----------------+-------------+-----------------+-----------------+\n",
            "| Your NN 3            |        465.972 | 457071           |          676.07 |     0.998423    |   931.284       | 1.85399e+06 |  1361.61        |     0.993896    |\n",
            "+----------------------+----------------+------------------+-----------------+-----------------+-----------------+-------------+-----------------+-----------------+\n"
          ]
        }
      ]
    },
    {
      "cell_type": "markdown",
      "source": [
        "##Quesion 7)"
      ],
      "metadata": {
        "id": "0zYnRTgadDth"
      }
    },
    {
      "cell_type": "code",
      "source": [
        "plt.plot(XTrain[140], c='b')\n",
        "plt.grid()\n",
        "py.xlabel(\"Feature\")\n",
        "py.ylabel(\"Signal Strength\")\n",
        "py.title(\"Sample Data Point\")\n",
        "plt.figure()"
      ],
      "metadata": {
        "colab": {
          "base_uri": "https://localhost:8080/",
          "height": 330
        },
        "id": "ZZjQkzwtGl_w",
        "outputId": "500b521d-0284-457a-c523-c689cae1185c"
      },
      "execution_count": 60,
      "outputs": [
        {
          "output_type": "execute_result",
          "data": {
            "text/plain": [
              "<Figure size 432x288 with 0 Axes>"
            ]
          },
          "metadata": {},
          "execution_count": 60
        },
        {
          "output_type": "display_data",
          "data": {
            "text/plain": [
              "<Figure size 432x288 with 1 Axes>"
            ],
            "image/png": "[encoded data removed]"
          },
          "metadata": {
            "needs_background": "light"
          }
        },
        {
          "output_type": "display_data",
          "data": {
            "text/plain": [
              "<Figure size 432x288 with 0 Axes>"
            ]
          },
          "metadata": {}
        }
      ]
    },
    {
      "cell_type": "code",
      "source": [
        "plt.plot(x_norm[140], c='b', label='Point 1')\n",
        "plt.plot(x_norm[141], c='r', label='Point 2')\n",
        "plt.legend()\n",
        "plt.grid()\n",
        "py.xlabel(\"Index\")\n",
        "py.ylabel(\"Signal Strength\")\n",
        "py.title(\"Sample Data Points\")\n",
        "plt.figure()"
      ],
      "metadata": {
        "colab": {
          "base_uri": "https://localhost:8080/",
          "height": 330
        },
        "id": "PcMUAzxaGq6r",
        "outputId": "53cc7de2-5cab-4328-86dd-8ba3df4754dc"
      },
      "execution_count": 61,
      "outputs": [
        {
          "output_type": "execute_result",
          "data": {
            "text/plain": [
              "<Figure size 432x288 with 0 Axes>"
            ]
          },
          "metadata": {},
          "execution_count": 61
        },
        {
          "output_type": "display_data",
          "data": {
            "text/plain": [
              "<Figure size 432x288 with 1 Axes>"
            ],
            "image/png": "[encoded data removed]"
          },
          "metadata": {
            "needs_background": "light"
          }
        },
        {
          "output_type": "display_data",
          "data": {
            "text/plain": [
              "<Figure size 432x288 with 0 Axes>"
            ]
          },
          "metadata": {}
        }
      ]
    },
    {
      "cell_type": "code",
      "source": [
        "def rotate(normedX):\n",
        "\n",
        "    rows = normedX.shape[0]\n",
        "    cols = normedX.shape[1]\n",
        "    \n",
        "    #rotate back\n",
        "    angle_h = np.arctan(normedX[:,40]/normedX[:,0]).reshape((rows, 1))\n",
        "    angle_v = np.arctan(normedX[:,120]/normedX[:,80]).reshape((rows, 1))\n",
        "    \n",
        "    realparts_h = normedX[:,0:40]\n",
        "    imagparts_h = normedX[:,40:80]\n",
        "    \n",
        "    \n",
        "    output = np.zeros_like(normedX)\n",
        "    \n",
        "    output[:,0:40] = np.cos(angle_h)*realparts_h + np.sin(angle_h) * imagparts_h\n",
        "    output[:,40:80] = -np.sin(angle_h)*realparts_h + np.cos(angle_h) * imagparts_h\n",
        "    \n",
        "    \n",
        "    realparts_v = normedX[:,80:120]\n",
        "    imagpart_v = normedX[:,120:160]\n",
        "    output[:,80:120] = np.cos(angle_v)*realparts_v + np.sin(angle_v) * imagpart_v\n",
        "    output[:,120:160] = -np.sin(angle_v)*realparts_v + np.cos(angle_v) * imagpart_v\n",
        "        \n",
        "    output[:,0:80] = np.sign(output[:,0]).reshape((rows,1)) * output[:,0:80]\n",
        "    output[:,80:160] = np.sign(output[:,80]).reshape((rows,1)) * output[:,80:160]\n",
        "    \n",
        "    return output"
      ],
      "metadata": {
        "id": "0BmBkrClG9HT"
      },
      "execution_count": 62,
      "outputs": []
    },
    {
      "cell_type": "code",
      "source": [
        "plt.plot(rotate(x_norm)[140], c='b', label='Point 1')\n",
        "plt.plot(rotate(x_norm)[141], c='r', label='Point 2')\n",
        "plt.legend()\n",
        "plt.grid()\n",
        "py.xlabel(\"Index\")\n",
        "py.ylabel(\"Signal Strength\")\n",
        "py.title(\"Sample Data Points\")\n",
        "plt.figure()"
      ],
      "metadata": {
        "colab": {
          "base_uri": "https://localhost:8080/",
          "height": 330
        },
        "id": "xit1CXeZHAjs",
        "outputId": "1bb5e800-c1d1-447e-e51a-7a62728a5540"
      },
      "execution_count": 63,
      "outputs": [
        {
          "output_type": "execute_result",
          "data": {
            "text/plain": [
              "<Figure size 432x288 with 0 Axes>"
            ]
          },
          "metadata": {},
          "execution_count": 63
        },
        {
          "output_type": "display_data",
          "data": {
            "text/plain": [
              "<Figure size 432x288 with 1 Axes>"
            ],
            "image/png": "[encoded data removed]"
          },
          "metadata": {
            "needs_background": "light"
          }
        },
        {
          "output_type": "display_data",
          "data": {
            "text/plain": [
              "<Figure size 432x288 with 0 Axes>"
            ]
          },
          "metadata": {}
        }
      ]
    },
    {
      "cell_type": "code",
      "source": [
        "network_8, losses = train(rotate(XTrain), yTrain, model_8, num_epochs, learning_rate, batch_size, criterion, print_interval)"
      ],
      "metadata": {
        "colab": {
          "base_uri": "https://localhost:8080/"
        },
        "id": "U12p-Ng-HcUJ",
        "outputId": "b29a4aa9-a56c-44f5-be10-dddbe713ff80"
      },
      "execution_count": 64,
      "outputs": [
        {
          "output_type": "stream",
          "name": "stdout",
          "text": [
            "epoch:  100 training loss: 5.094e+03 time:    4.1\n",
            "epoch:  200 training loss: 3.133e+03 time:    8.1\n",
            "epoch:  300 training loss: 2.035e+03 time:   12.1\n",
            "epoch:  400 training loss: 1.456e+03 time:   16.1\n",
            "epoch:  500 training loss: 4.648e+02 time:   20.6\n",
            "epoch:  600 training loss: 5.967e+02 time:   24.6\n",
            "epoch:  700 training loss: 6.692e+02 time:   28.7\n",
            "epoch:  800 training loss: 2.205e+02 time:   32.8\n",
            "epoch:  900 training loss: 1.960e+02 time:   36.8\n",
            "epoch: 1000 training loss: 1.705e+02 time:   40.8\n",
            "epoch: 1100 training loss: 1.364e+02 time:   44.8\n",
            "epoch: 1200 training loss: 9.510e+01 time:   48.9\n",
            "epoch: 1300 training loss: 1.942e+02 time:   52.9\n",
            "epoch: 1400 training loss: 9.347e+01 time:   56.9\n",
            "epoch: 1500 training loss: 9.073e+01 time:   61.0\n",
            "epoch: 1600 training loss: 7.977e+01 time:   65.1\n",
            "epoch: 1700 training loss: 1.156e+02 time:   69.1\n",
            "epoch: 1800 training loss: 9.622e+01 time:   73.1\n",
            "epoch: 1900 training loss: 7.237e+01 time:   77.1\n"
          ]
        }
      ]
    },
    {
      "cell_type": "code",
      "source": [
        "plt.plot(losses)\n",
        "plt.grid()\n",
        "plt.xlabel(\"Epoch\")\n",
        "plt.ylabel(\"Error\")\n",
        "plt.figure()"
      ],
      "metadata": {
        "colab": {
          "base_uri": "https://localhost:8080/",
          "height": 314
        },
        "id": "wYR7Oc3mIS4Q",
        "outputId": "4d951ab8-9a15-4572-ff7c-d2e567fb9509"
      },
      "execution_count": 65,
      "outputs": [
        {
          "output_type": "execute_result",
          "data": {
            "text/plain": [
              "<Figure size 432x288 with 0 Axes>"
            ]
          },
          "metadata": {},
          "execution_count": 65
        },
        {
          "output_type": "display_data",
          "data": {
            "text/plain": [
              "<Figure size 432x288 with 1 Axes>"
            ],
            "image/png": "[encoded data removed]"
          },
          "metadata": {
            "needs_background": "light"
          }
        },
        {
          "output_type": "display_data",
          "data": {
            "text/plain": [
              "<Figure size 432x288 with 0 Axes>"
            ]
          },
          "metadata": {}
        }
      ]
    },
    {
      "cell_type": "code",
      "source": [
        "MAE_train_nn8,MSE_train_nn8,RMSE_train_nn8,R2_train_nn8,MAE_test_nn8,MSE_test_nn8,RMSE_test_nn8,R2_test_nn8=model_eva(rotate(XTrain),rotate(XTest),yTrain,yTest,network_8)\n",
        "\n",
        "results.append([\"Your NN 3 with rotated X\",MAE_train_nn8,MSE_train_nn8,RMSE_train_nn8,R2_train_nn8,MAE_test_nn8,MSE_test_nn8,RMSE_test_nn8,R2_test_nn8])\n",
        "\n",
        "print (tabulate(results, headers=[\"Model\", \"Training MAE\", \"Training MSE\", \"Training RMSE\", \"Training R^2\", \"Test MAE\", \"Test MSE\", \"Test RMSE\", \"Test R^2\"],tablefmt=\"grid\"))"
      ],
      "metadata": {
        "colab": {
          "base_uri": "https://localhost:8080/"
        },
        "id": "UBebXqP_JjMl",
        "outputId": "a469f4cf-f8c2-487b-eb8b-2fe96908cc86"
      },
      "execution_count": 66,
      "outputs": [
        {
          "output_type": "stream",
          "name": "stdout",
          "text": [
            "+--------------------------+----------------+------------------+-----------------+-----------------+-----------------+-----------------+-----------------+-----------------+\n",
            "| Model                    |   Training MAE |     Training MSE |   Training RMSE |    Training R^2 |        Test MAE |        Test MSE |       Test RMSE |        Test R^2 |\n",
            "+==========================+================+==================+=================+=================+=================+=================+=================+=================+\n",
            "| Linear regression        |     10765.5    |      1.88684e+08 |      13736.2    |    -0.81852     |     1.27881e+06 |     1.35899e+14 |     1.16576e+07 |    -0.000280507 |\n",
            "+--------------------------+----------------+------------------+-----------------+-----------------+-----------------+-----------------+-----------------+-----------------+\n",
            "| Linear Ridge             |     14682.5    |      2.90253e+08 |      17036.8    |  -523.532       | 15361.8         |     3.11941e+08 | 17661.9         |  -633.494       |\n",
            "+--------------------------+----------------+------------------+-----------------+-----------------+-----------------+-----------------+-----------------+-----------------+\n",
            "| Linear Lasso             |     14673.4    |      2.90082e+08 |      17031.8    |  -363.127       | 15372.7         |     3.1278e+08  | 17685.6         |  -427.002       |\n",
            "+--------------------------+----------------+------------------+-----------------+-----------------+-----------------+-----------------+-----------------+-----------------+\n",
            "| Linear BayesianRidge     |     14705.9    |      2.91107e+08 |      17061.9    |    -2.80613e+15 | 15318.8         |     3.09894e+08 | 17603.8         |    -3.48914e+15 |\n",
            "+--------------------------+----------------+------------------+-----------------+-----------------+-----------------+-----------------+-----------------+-----------------+\n",
            "| NN_1                     |     39102.5    |      1.82065e+09 |      42669.1    | -1155.56        | 39042.4         |     1.83706e+09 | 42860.9         | -1232.5         |\n",
            "+--------------------------+----------------+------------------+-----------------+-----------------+-----------------+-----------------+-----------------+-----------------+\n",
            "| NN_2                     |     39928      |      1.88535e+09 |      43420.6    |    -1.64786e+10 | 39745.7         |     1.88958e+09 | 43469.3         |    -1.70635e+10 |\n",
            "+--------------------------+----------------+------------------+-----------------+-----------------+-----------------+-----------------+-----------------+-----------------+\n",
            "| NN_3                     |      1831.21   |      5.70064e+06 |       2387.6    |     0.979581    |  2359.17        |     9.47655e+06 |  3078.4         |     0.967352    |\n",
            "+--------------------------+----------------+------------------+-----------------+-----------------+-----------------+-----------------+-----------------+-----------------+\n",
            "| NN_3_sigmoid             |     39971.1    |      1.88879e+09 |      43460.2    |     0           | 39788.7         |     1.893e+09   | 43508.6         |    -3.25215e+19 |\n",
            "+--------------------------+----------------+------------------+-----------------+-----------------+-----------------+-----------------+-----------------+-----------------+\n",
            "| NN_3_relu                |      2661.72   |      1.08804e+07 |       3298.54   |     0.958419    |  3074.05        |     1.4749e+07  |  3840.45        |     0.945415    |\n",
            "+--------------------------+----------------+------------------+-----------------+-----------------+-----------------+-----------------+-----------------+-----------------+\n",
            "| Your NN 1                |      9211.46   |      1.27192e+08 |      11277.9    |    -2.22848     |  9743.35        |     1.40688e+08 | 11861.2         |    -2.54797     |\n",
            "+--------------------------+----------------+------------------+-----------------+-----------------+-----------------+-----------------+-----------------+-----------------+\n",
            "| Your NN 2                |     14688.9    |      2.90584e+08 |      17046.5    |  -526.661       | 15349.7         |     3.1126e+08  | 17642.6         |  -605.548       |\n",
            "+--------------------------+----------------+------------------+-----------------+-----------------+-----------------+-----------------+-----------------+-----------------+\n",
            "| Your NN 3                |       465.972  | 457071           |        676.07   |     0.998423    |   931.284       |     1.85399e+06 |  1361.61        |     0.993896    |\n",
            "+--------------------------+----------------+------------------+-----------------+-----------------+-----------------+-----------------+-----------------+-----------------+\n",
            "| Your NN 3 with rotated X |        62.1269 |   7500.71        |         86.6066 |     0.999974    |    81.353       | 14749.9         |   121.449       |     0.999952    |\n",
            "+--------------------------+----------------+------------------+-----------------+-----------------+-----------------+-----------------+-----------------+-----------------+\n"
          ]
        }
      ]
    },
    {
      "cell_type": "markdown",
      "source": [
        "## Question 8)"
      ],
      "metadata": {
        "id": "V9qSxXXgaBkO"
      }
    },
    {
      "cell_type": "code",
      "source": [
        "arrays2 = {}\n",
        "\n",
        "filepath = ['cs3data2.h5']\n",
        "numfiles = len(filepath)\n",
        "f = 0\n",
        "for i in range(numfiles):\n",
        "    f = h5py.File(filepath[i], 'r')\n",
        "    for k, v in f.items():\n",
        "        arrays2[k] = v\n",
        "\n",
        "# display what data we have\n",
        "for key in arrays2.keys():\n",
        "    print(key, arrays2[key])"
      ],
      "metadata": {
        "colab": {
          "base_uri": "https://localhost:8080/"
        },
        "id": "LsJulz_vJ1u-",
        "outputId": "d2e6922d-9a15-42a3-8a98-e73ceae0c151"
      },
      "execution_count": 72,
      "outputs": [
        {
          "output_type": "stream",
          "name": "stdout",
          "text": [
            "duct_height_save <HDF5 dataset \"duct_height_save\": shape (1, 4), type \"<f8\">\n",
            "field_H_imag_save <HDF5 dataset \"field_H_imag_save\": shape (4, 1201, 40), type \"<f8\">\n",
            "field_H_real_save <HDF5 dataset \"field_H_real_save\": shape (4, 1201, 40), type \"<f8\">\n",
            "field_V_imag_save <HDF5 dataset \"field_V_imag_save\": shape (4, 1201, 40), type \"<f8\">\n",
            "field_V_real_save <HDF5 dataset \"field_V_real_save\": shape (4, 1201, 40), type \"<f8\">\n",
            "range_grid <HDF5 dataset \"range_grid\": shape (1201, 1), type \"<f8\">\n"
          ]
        }
      ]
    },
    {
      "cell_type": "code",
      "source": [
        "duct_heights = np.array(arrays2['duct_height_save']).reshape(-1)\n",
        "print(duct_heights)"
      ],
      "metadata": {
        "colab": {
          "base_uri": "https://localhost:8080/"
        },
        "id": "Ok1fnYgXJ9jn",
        "outputId": "17b9b648-3ef8-441f-d26e-63cd234e67e8"
      },
      "execution_count": 73,
      "outputs": [
        {
          "output_type": "stream",
          "name": "stdout",
          "text": [
            "[23.  23.5 24.  24.5]\n"
          ]
        }
      ]
    },
    {
      "cell_type": "code",
      "source": [
        "numfields =  4\n",
        "numranges = 1201\n",
        "\n",
        "#get the electric field data and reshape everything into one np array\n",
        "\n",
        "test_data_h_real = np.array(arrays2['field_H_real_save']).reshape(numfields, numranges, 40)\n",
        "test_data_h_imag = np.array(arrays2['field_H_imag_save']).reshape(numfields, numranges, 40)\n",
        "test_data_v_real = np.array(arrays2['field_V_real_save']).reshape(numfields, numranges, 40)\n",
        "test_data_v_imag = np.array(arrays2['field_V_imag_save']).reshape(numfields, numranges, 40)\n",
        "\n",
        "XTest_otherducts = []\n",
        "XTest_otherducts += [[test_data_h_real*1, test_data_h_imag*1, test_data_v_real*1, test_data_v_imag*1]]\n",
        "XTest_otherducts = np.block(XTest_otherducts)\n",
        "print(XTest_otherducts.shape)\n",
        "\n",
        "# get the target range data\n",
        "\n",
        "ranges = np.array(arrays2['range_grid']).reshape((numranges))\n",
        "\n",
        "yTest_otherducts = []\n",
        "yTest_otherducts += [ranges]\n",
        "yTest_otherducts = np.block(yTest_otherducts)\n",
        "print(yTest_otherducts.shape)"
      ],
      "metadata": {
        "colab": {
          "base_uri": "https://localhost:8080/"
        },
        "id": "21vTv-cOKBQS",
        "outputId": "10b00d44-0451-4a97-f580-81b1a4ec08ea"
      },
      "execution_count": 74,
      "outputs": [
        {
          "output_type": "stream",
          "name": "stdout",
          "text": [
            "(4, 1201, 160)\n",
            "(1201,)\n"
          ]
        }
      ]
    },
    {
      "cell_type": "code",
      "source": [
        "MAE_train_nn3_w1,MSE_train_nn3_w1,RMSE_train_nn3_w1,R2_train_nn3_w1,MAE_test_nn3_w1,MSE_test_nn3_w1,RMSE_test_nn3_w1,R2_test_nn3_w1=model_eva(XTrain,normalize(XTest_otherducts[0]),yTrain,yTest_otherducts,network_3)\n",
        "MAE_train_nn3_w2,MSE_train_nn3_w2,RMSE_train_nn3_w2,R2_train_nn3_w2,MAE_test_nn3_w2,MSE_test_nn3_w2,RMSE_test_nn3_w2,R2_test_nn3_w2=model_eva(XTrain,normalize(XTest_otherducts[1]),yTrain,yTest_otherducts,network_3)\n",
        "MAE_train_nn3_w3,MSE_train_nn3_w3,RMSE_train_nn3_w3,R2_train_nn3_w3,MAE_test_nn3_w3,MSE_test_nn3_w3,RMSE_test_nn3_w3,R2_test_nn3_w3=model_eva(XTrain,normalize(XTest_otherducts[2]),yTrain,yTest_otherducts,network_3)\n",
        "MAE_train_nn3_w4,MSE_train_nn3_w4,RMSE_train_nn3_w4,R2_train_nn3_w4,MAE_test_nn3_w4,MSE_test_nn3_w4,RMSE_test_nn3_w4,R2_test_nn3_w4=model_eva(XTrain,normalize(XTest_otherducts[3]),yTrain,yTest_otherducts,network_3)"
      ],
      "metadata": {
        "id": "nqzAYtbsKIqU"
      },
      "execution_count": 75,
      "outputs": []
    },
    {
      "cell_type": "code",
      "source": [
        "results.append([\"NN_3_weather_1\",MAE_train_nn3_w1,MSE_train_nn3_w1,RMSE_train_nn3_w1,R2_train_nn3_w1,MAE_test_nn3_w1,MSE_test_nn3_w1,RMSE_test_nn3_w1,R2_test_nn3_w1])\n",
        "results.append([\"NN_3_weather_2\",MAE_train_nn3_w2,MSE_train_nn3_w2,RMSE_train_nn3_w2,R2_train_nn3_w2,MAE_test_nn3_w2,MSE_test_nn3_w2,RMSE_test_nn3_w2,R2_test_nn3_w2])\n",
        "results.append([\"NN_3_weather_3\",MAE_train_nn3_w3,MSE_train_nn3_w3,RMSE_train_nn3_w3,R2_train_nn3_w3,MAE_test_nn3_w3,MSE_test_nn3_w3,RMSE_test_nn3_w3,R2_test_nn3_w3])\n",
        "results.append([\"NN_3_weather_4\",MAE_train_nn3_w4,MSE_train_nn3_w4,RMSE_train_nn3_w4,R2_train_nn3_w4,MAE_test_nn3_w4,MSE_test_nn3_w4,RMSE_test_nn3_w4,R2_test_nn3_w4])"
      ],
      "metadata": {
        "id": "HXdBmNdvKYXE"
      },
      "execution_count": 76,
      "outputs": []
    },
    {
      "cell_type": "code",
      "source": [
        "print (tabulate(results, headers=[\"Model\", \"Training MAE\", \"Training MSE\", \"Training RMSE\", \"Training R^2\", \"Test MAE\", \"Test MSE\", \"Test RMSE\", \"Test R^2\"],tablefmt=\"grid\"))"
      ],
      "metadata": {
        "colab": {
          "base_uri": "https://localhost:8080/"
        },
        "id": "06cKGPWBKhbo",
        "outputId": "40eda287-256d-40fa-cb3b-fd228b94f3e7"
      },
      "execution_count": 77,
      "outputs": [
        {
          "output_type": "stream",
          "name": "stdout",
          "text": [
            "+--------------------------+----------------+------------------+-----------------+-----------------+-----------------+-----------------+-----------------+-----------------+\n",
            "| Model                    |   Training MAE |     Training MSE |   Training RMSE |    Training R^2 |        Test MAE |        Test MSE |       Test RMSE |        Test R^2 |\n",
            "+==========================+================+==================+=================+=================+=================+=================+=================+=================+\n",
            "| Linear regression        |     10765.5    |      1.88684e+08 |      13736.2    |    -0.81852     |     1.27881e+06 |     1.35899e+14 |     1.16576e+07 |    -0.000280507 |\n",
            "+--------------------------+----------------+------------------+-----------------+-----------------+-----------------+-----------------+-----------------+-----------------+\n",
            "| Linear Ridge             |     14682.5    |      2.90253e+08 |      17036.8    |  -523.532       | 15361.8         |     3.11941e+08 | 17661.9         |  -633.494       |\n",
            "+--------------------------+----------------+------------------+-----------------+-----------------+-----------------+-----------------+-----------------+-----------------+\n",
            "| Linear Lasso             |     14673.4    |      2.90082e+08 |      17031.8    |  -363.127       | 15372.7         |     3.1278e+08  | 17685.6         |  -427.002       |\n",
            "+--------------------------+----------------+------------------+-----------------+-----------------+-----------------+-----------------+-----------------+-----------------+\n",
            "| Linear BayesianRidge     |     14705.9    |      2.91107e+08 |      17061.9    |    -2.80613e+15 | 15318.8         |     3.09894e+08 | 17603.8         |    -3.48914e+15 |\n",
            "+--------------------------+----------------+------------------+-----------------+-----------------+-----------------+-----------------+-----------------+-----------------+\n",
            "| NN_1                     |     39102.5    |      1.82065e+09 |      42669.1    | -1155.56        | 39042.4         |     1.83706e+09 | 42860.9         | -1232.5         |\n",
            "+--------------------------+----------------+------------------+-----------------+-----------------+-----------------+-----------------+-----------------+-----------------+\n",
            "| NN_2                     |     39928      |      1.88535e+09 |      43420.6    |    -1.64786e+10 | 39745.7         |     1.88958e+09 | 43469.3         |    -1.70635e+10 |\n",
            "+--------------------------+----------------+------------------+-----------------+-----------------+-----------------+-----------------+-----------------+-----------------+\n",
            "| NN_3                     |      1831.21   |      5.70064e+06 |       2387.6    |     0.979581    |  2359.17        |     9.47655e+06 |  3078.4         |     0.967352    |\n",
            "+--------------------------+----------------+------------------+-----------------+-----------------+-----------------+-----------------+-----------------+-----------------+\n",
            "| NN_3_sigmoid             |     39971.1    |      1.88879e+09 |      43460.2    |     0           | 39788.7         |     1.893e+09   | 43508.6         |    -3.25215e+19 |\n",
            "+--------------------------+----------------+------------------+-----------------+-----------------+-----------------+-----------------+-----------------+-----------------+\n",
            "| NN_3_relu                |      2650.62   |      1.08212e+07 |       3289.56   |     0.958655    |  3062.02        |     1.46525e+07 |  3827.86        |     0.945777    |\n",
            "+--------------------------+----------------+------------------+-----------------+-----------------+-----------------+-----------------+-----------------+-----------------+\n",
            "| Your NN 1                |      9211.46   |      1.27192e+08 |      11277.9    |    -2.22848     |  9743.35        |     1.40688e+08 | 11861.2         |    -2.54797     |\n",
            "+--------------------------+----------------+------------------+-----------------+-----------------+-----------------+-----------------+-----------------+-----------------+\n",
            "| Your NN 2                |     14688.9    |      2.90584e+08 |      17046.5    |  -526.658       | 15349.7         |     3.1126e+08  | 17642.6         |  -605.546       |\n",
            "+--------------------------+----------------+------------------+-----------------+-----------------+-----------------+-----------------+-----------------+-----------------+\n",
            "| Your NN 3                |       463.899  | 458325           |        676.997  |     0.998419    |   929.86        |     1.84952e+06 |  1359.97        |     0.993913    |\n",
            "+--------------------------+----------------+------------------+-----------------+-----------------+-----------------+-----------------+-----------------+-----------------+\n",
            "| Your NN 3 with rotated X |        59.8805 |   7037.84        |         83.8919 |     0.999976    |    85.4718      | 18265.1         |   135.148       |     0.999941    |\n",
            "+--------------------------+----------------+------------------+-----------------+-----------------+-----------------+-----------------+-----------------+-----------------+\n",
            "| NN_3_weather_1           |      1831.21   |      5.70064e+06 |       2387.6    |     0.979581    | 12635.6         |     2.03761e+08 | 14274.5         |    -0.212807    |\n",
            "+--------------------------+----------------+------------------+-----------------+-----------------+-----------------+-----------------+-----------------+-----------------+\n",
            "| NN_3_weather_2           |      1831.21   |      5.70064e+06 |       2387.6    |     0.979581    |  8992.78        |     1.0185e+08  | 10092.1         |     0.525594    |\n",
            "+--------------------------+----------------+------------------+-----------------+-----------------+-----------------+-----------------+-----------------+-----------------+\n",
            "| NN_3_weather_3           |      1831.21   |      5.70064e+06 |       2387.6    |     0.979581    |  5604.1         |     4.04615e+07 |  6360.93        |     0.84435     |\n",
            "+--------------------------+----------------+------------------+-----------------+-----------------+-----------------+-----------------+-----------------+-----------------+\n",
            "| NN_3_weather_4           |      1831.21   |      5.70064e+06 |       2387.6    |     0.979581    |  3035.85        |     1.28464e+07 |  3584.18        |     0.953489    |\n",
            "+--------------------------+----------------+------------------+-----------------+-----------------+-----------------+-----------------+-----------------+-----------------+\n"
          ]
        }
      ]
    },
    {
      "cell_type": "markdown",
      "source": [
        "\n",
        "####Part 1\n",
        "The model doesn't necessarily perform better in all weather, but rather inconsistently. The testing error between weather 1 and 4 is vastly different, weather 4 being much better. "
      ],
      "metadata": {
        "id": "GyG3uUu_Ufya"
      }
    },
    {
      "cell_type": "markdown",
      "source": [
        "####Part 2"
      ],
      "metadata": {
        "id": "n-SIiz0jZ87Q"
      }
    },
    {
      "cell_type": "code",
      "source": [
        "X_all = np.concatenate((Xraw, *XTest_otherducts))\n",
        "print(X_all.shape)\n",
        "\n",
        "Y_all = np.concatenate((yraw, np.repeat(yTest_otherducts, 4)))\n",
        "print(Y_all.shape)"
      ],
      "metadata": {
        "id": "7wqRX5aIK0S3",
        "colab": {
          "base_uri": "https://localhost:8080/"
        },
        "outputId": "4600b3da-8a51-4527-ae7e-734824677f81"
      },
      "execution_count": 98,
      "outputs": [
        {
          "output_type": "stream",
          "name": "stdout",
          "text": [
            "(6005, 160)\n",
            "(6005,)\n"
          ]
        }
      ]
    },
    {
      "cell_type": "code",
      "source": [
        "MAE_train_nn3_w1,MSE_train_nn3_w1,RMSE_train_nn3_w1,R2_train_nn3_w1,MAE_test_nn3_w1,MSE_test_nn3_w1,RMSE_test_nn3_w1,R2_test_nn3_w1=model_eva(XTrain,X_all,yTrain,Y_all,network_3)"
      ],
      "metadata": {
        "id": "wAHXrj5Ci3th"
      },
      "execution_count": 99,
      "outputs": []
    },
    {
      "cell_type": "code",
      "source": [
        "results.append([\"NN_3_All_Weather\",MAE_train_nn3_w1,MSE_train_nn3_w1,RMSE_train_nn3_w1,R2_train_nn3_w1,MAE_test_nn3_w1,MSE_test_nn3_w1,RMSE_test_nn3_w1,R2_test_nn3_w1])"
      ],
      "metadata": {
        "id": "tGPKq3v1jHb1"
      },
      "execution_count": 100,
      "outputs": []
    },
    {
      "cell_type": "code",
      "source": [
        "print (tabulate(results, headers=[\"Model\", \"Training MAE\", \"Training MSE\", \"Training RMSE\", \"Training R^2\", \"Test MAE\", \"Test MSE\", \"Test RMSE\", \"Test R^2\"],tablefmt=\"grid\"))"
      ],
      "metadata": {
        "colab": {
          "base_uri": "https://localhost:8080/"
        },
        "id": "Es4X5jyQjNRd",
        "outputId": "f063645f-390d-4584-977c-750a5c5e8fc2"
      },
      "execution_count": 101,
      "outputs": [
        {
          "output_type": "stream",
          "name": "stdout",
          "text": [
            "+--------------------------+----------------+------------------+-----------------+-----------------+-----------------+-----------------+-----------------+-----------------+\n",
            "| Model                    |   Training MAE |     Training MSE |   Training RMSE |    Training R^2 |        Test MAE |        Test MSE |       Test RMSE |        Test R^2 |\n",
            "+==========================+================+==================+=================+=================+=================+=================+=================+=================+\n",
            "| Linear regression        |     10765.5    |      1.88684e+08 |      13736.2    |    -0.81852     |     1.27881e+06 |     1.35899e+14 |     1.16576e+07 |    -0.000280507 |\n",
            "+--------------------------+----------------+------------------+-----------------+-----------------+-----------------+-----------------+-----------------+-----------------+\n",
            "| Linear Ridge             |     14682.5    |      2.90253e+08 |      17036.8    |  -523.532       | 15361.8         |     3.11941e+08 | 17661.9         |  -633.494       |\n",
            "+--------------------------+----------------+------------------+-----------------+-----------------+-----------------+-----------------+-----------------+-----------------+\n",
            "| Linear Lasso             |     14673.4    |      2.90082e+08 |      17031.8    |  -363.127       | 15372.7         |     3.1278e+08  | 17685.6         |  -427.002       |\n",
            "+--------------------------+----------------+------------------+-----------------+-----------------+-----------------+-----------------+-----------------+-----------------+\n",
            "| Linear BayesianRidge     |     14705.9    |      2.91107e+08 |      17061.9    |    -2.80613e+15 | 15318.8         |     3.09894e+08 | 17603.8         |    -3.48914e+15 |\n",
            "+--------------------------+----------------+------------------+-----------------+-----------------+-----------------+-----------------+-----------------+-----------------+\n",
            "| NN_1                     |     39102.5    |      1.82065e+09 |      42669.1    | -1155.56        | 39042.4         |     1.83706e+09 | 42860.9         | -1232.5         |\n",
            "+--------------------------+----------------+------------------+-----------------+-----------------+-----------------+-----------------+-----------------+-----------------+\n",
            "| NN_2                     |     39928      |      1.88535e+09 |      43420.6    |    -1.64786e+10 | 39745.7         |     1.88958e+09 | 43469.3         |    -1.70635e+10 |\n",
            "+--------------------------+----------------+------------------+-----------------+-----------------+-----------------+-----------------+-----------------+-----------------+\n",
            "| NN_3                     |      1831.21   |      5.70064e+06 |       2387.6    |     0.979581    |  2359.17        |     9.47655e+06 |  3078.4         |     0.967352    |\n",
            "+--------------------------+----------------+------------------+-----------------+-----------------+-----------------+-----------------+-----------------+-----------------+\n",
            "| NN_3_sigmoid             |     39971.1    |      1.88879e+09 |      43460.2    |     0           | 39788.7         |     1.893e+09   | 43508.6         |    -3.25215e+19 |\n",
            "+--------------------------+----------------+------------------+-----------------+-----------------+-----------------+-----------------+-----------------+-----------------+\n",
            "| NN_3_relu                |      2650.62   |      1.08212e+07 |       3289.56   |     0.958655    |  3062.02        |     1.46525e+07 |  3827.86        |     0.945777    |\n",
            "+--------------------------+----------------+------------------+-----------------+-----------------+-----------------+-----------------+-----------------+-----------------+\n",
            "| Your NN 1                |      9211.46   |      1.27192e+08 |      11277.9    |    -2.22848     |  9743.35        |     1.40688e+08 | 11861.2         |    -2.54797     |\n",
            "+--------------------------+----------------+------------------+-----------------+-----------------+-----------------+-----------------+-----------------+-----------------+\n",
            "| Your NN 2                |     14688.9    |      2.90584e+08 |      17046.5    |  -526.658       | 15349.7         |     3.1126e+08  | 17642.6         |  -605.546       |\n",
            "+--------------------------+----------------+------------------+-----------------+-----------------+-----------------+-----------------+-----------------+-----------------+\n",
            "| Your NN 3                |       463.899  | 458325           |        676.997  |     0.998419    |   929.86        |     1.84952e+06 |  1359.97        |     0.993913    |\n",
            "+--------------------------+----------------+------------------+-----------------+-----------------+-----------------+-----------------+-----------------+-----------------+\n",
            "| Your NN 3 with rotated X |        59.8805 |   7037.84        |         83.8919 |     0.999976    |    85.4718      | 18265.1         |   135.148       |     0.999941    |\n",
            "+--------------------------+----------------+------------------+-----------------+-----------------+-----------------+-----------------+-----------------+-----------------+\n",
            "| NN_3_weather_1           |      1831.21   |      5.70064e+06 |       2387.6    |     0.979581    | 12635.6         |     2.03761e+08 | 14274.5         |    -0.212807    |\n",
            "+--------------------------+----------------+------------------+-----------------+-----------------+-----------------+-----------------+-----------------+-----------------+\n",
            "| NN_3_weather_2           |      1831.21   |      5.70064e+06 |       2387.6    |     0.979581    |  8992.78        |     1.0185e+08  | 10092.1         |     0.525594    |\n",
            "+--------------------------+----------------+------------------+-----------------+-----------------+-----------------+-----------------+-----------------+-----------------+\n",
            "| NN_3_weather_3           |      1831.21   |      5.70064e+06 |       2387.6    |     0.979581    |  5604.1         |     4.04615e+07 |  6360.93        |     0.84435     |\n",
            "+--------------------------+----------------+------------------+-----------------+-----------------+-----------------+-----------------+-----------------+-----------------+\n",
            "| NN_3_weather_4           |      1831.21   |      5.70064e+06 |       2387.6    |     0.979581    |  3035.85        |     1.28464e+07 |  3584.18        |     0.953489    |\n",
            "+--------------------------+----------------+------------------+-----------------+-----------------+-----------------+-----------------+-----------------+-----------------+\n",
            "| NN_3_All_Weather         |      1831.21   |      5.70064e+06 |       2387.6    |     0.979581    | 30668.4         |     1.24105e+09 | 35228.6         |    -1.73984e+12 |\n",
            "+--------------------------+----------------+------------------+-----------------+-----------------+-----------------+-----------------+-----------------+-----------------+\n"
          ]
        }
      ]
    },
    {
      "cell_type": "code",
      "source": [
        "MAE_train_nn8,MSE_train_nn8,RMSE_train_nn8,R2_train_nn8,MAE_test_nn8,MSE_test_nn8,RMSE_test_nn8,R2_test_nn8=model_eva(rotate(XTrain),rotate(X_all),yTrain,Y_all,network_8)\n",
        "\n",
        "results.append([\"Your NN 3 with rotated X and all weather\",MAE_train_nn8,MSE_train_nn8,RMSE_train_nn8,R2_train_nn8,MAE_test_nn8,MSE_test_nn8,RMSE_test_nn8,R2_test_nn8])\n",
        "\n",
        "print (tabulate(results, headers=[\"Model\", \"Training MAE\", \"Training MSE\", \"Training RMSE\", \"Training R^2\", \"Test MAE\", \"Test MSE\", \"Test RMSE\", \"Test R^2\"],tablefmt=\"grid\"))"
      ],
      "metadata": {
        "colab": {
          "base_uri": "https://localhost:8080/"
        },
        "id": "LEq3u2aPj04V",
        "outputId": "519ee217-78f3-4ece-f019-bedbc3fc9b8e"
      },
      "execution_count": 103,
      "outputs": [
        {
          "output_type": "stream",
          "name": "stdout",
          "text": [
            "+------------------------------------------+----------------+------------------+-----------------+-----------------+-----------------+-----------------+-----------------+-----------------+\n",
            "| Model                                    |   Training MAE |     Training MSE |   Training RMSE |    Training R^2 |        Test MAE |        Test MSE |       Test RMSE |        Test R^2 |\n",
            "+==========================================+================+==================+=================+=================+=================+=================+=================+=================+\n",
            "| Linear regression                        |     10765.5    |      1.88684e+08 |      13736.2    |    -0.81852     |     1.27881e+06 |     1.35899e+14 |     1.16576e+07 |    -0.000280507 |\n",
            "+------------------------------------------+----------------+------------------+-----------------+-----------------+-----------------+-----------------+-----------------+-----------------+\n",
            "| Linear Ridge                             |     14682.5    |      2.90253e+08 |      17036.8    |  -523.532       | 15361.8         |     3.11941e+08 | 17661.9         |  -633.494       |\n",
            "+------------------------------------------+----------------+------------------+-----------------+-----------------+-----------------+-----------------+-----------------+-----------------+\n",
            "| Linear Lasso                             |     14673.4    |      2.90082e+08 |      17031.8    |  -363.127       | 15372.7         |     3.1278e+08  | 17685.6         |  -427.002       |\n",
            "+------------------------------------------+----------------+------------------+-----------------+-----------------+-----------------+-----------------+-----------------+-----------------+\n",
            "| Linear BayesianRidge                     |     14705.9    |      2.91107e+08 |      17061.9    |    -2.80613e+15 | 15318.8         |     3.09894e+08 | 17603.8         |    -3.48914e+15 |\n",
            "+------------------------------------------+----------------+------------------+-----------------+-----------------+-----------------+-----------------+-----------------+-----------------+\n",
            "| NN_1                                     |     39102.5    |      1.82065e+09 |      42669.1    | -1155.56        | 39042.4         |     1.83706e+09 | 42860.9         | -1232.5         |\n",
            "+------------------------------------------+----------------+------------------+-----------------+-----------------+-----------------+-----------------+-----------------+-----------------+\n",
            "| NN_2                                     |     39928      |      1.88535e+09 |      43420.6    |    -1.64786e+10 | 39745.7         |     1.88958e+09 | 43469.3         |    -1.70635e+10 |\n",
            "+------------------------------------------+----------------+------------------+-----------------+-----------------+-----------------+-----------------+-----------------+-----------------+\n",
            "| NN_3                                     |      1831.21   |      5.70064e+06 |       2387.6    |     0.979581    |  2359.17        |     9.47655e+06 |  3078.4         |     0.967352    |\n",
            "+------------------------------------------+----------------+------------------+-----------------+-----------------+-----------------+-----------------+-----------------+-----------------+\n",
            "| NN_3_sigmoid                             |     39971.1    |      1.88879e+09 |      43460.2    |     0           | 39788.7         |     1.893e+09   | 43508.6         |    -3.25215e+19 |\n",
            "+------------------------------------------+----------------+------------------+-----------------+-----------------+-----------------+-----------------+-----------------+-----------------+\n",
            "| NN_3_relu                                |      2650.62   |      1.08212e+07 |       3289.56   |     0.958655    |  3062.02        |     1.46525e+07 |  3827.86        |     0.945777    |\n",
            "+------------------------------------------+----------------+------------------+-----------------+-----------------+-----------------+-----------------+-----------------+-----------------+\n",
            "| Your NN 1                                |      9211.46   |      1.27192e+08 |      11277.9    |    -2.22848     |  9743.35        |     1.40688e+08 | 11861.2         |    -2.54797     |\n",
            "+------------------------------------------+----------------+------------------+-----------------+-----------------+-----------------+-----------------+-----------------+-----------------+\n",
            "| Your NN 2                                |     14688.9    |      2.90584e+08 |      17046.5    |  -526.658       | 15349.7         |     3.1126e+08  | 17642.6         |  -605.546       |\n",
            "+------------------------------------------+----------------+------------------+-----------------+-----------------+-----------------+-----------------+-----------------+-----------------+\n",
            "| Your NN 3                                |       463.899  | 458325           |        676.997  |     0.998419    |   929.86        |     1.84952e+06 |  1359.97        |     0.993913    |\n",
            "+------------------------------------------+----------------+------------------+-----------------+-----------------+-----------------+-----------------+-----------------+-----------------+\n",
            "| Your NN 3 with rotated X                 |        59.8805 |   7037.84        |         83.8919 |     0.999976    |    85.4718      | 18265.1         |   135.148       |     0.999941    |\n",
            "+------------------------------------------+----------------+------------------+-----------------+-----------------+-----------------+-----------------+-----------------+-----------------+\n",
            "| NN_3_weather_1                           |      1831.21   |      5.70064e+06 |       2387.6    |     0.979581    | 12635.6         |     2.03761e+08 | 14274.5         |    -0.212807    |\n",
            "+------------------------------------------+----------------+------------------+-----------------+-----------------+-----------------+-----------------+-----------------+-----------------+\n",
            "| NN_3_weather_2                           |      1831.21   |      5.70064e+06 |       2387.6    |     0.979581    |  8992.78        |     1.0185e+08  | 10092.1         |     0.525594    |\n",
            "+------------------------------------------+----------------+------------------+-----------------+-----------------+-----------------+-----------------+-----------------+-----------------+\n",
            "| NN_3_weather_3                           |      1831.21   |      5.70064e+06 |       2387.6    |     0.979581    |  5604.1         |     4.04615e+07 |  6360.93        |     0.84435     |\n",
            "+------------------------------------------+----------------+------------------+-----------------+-----------------+-----------------+-----------------+-----------------+-----------------+\n",
            "| NN_3_weather_4                           |      1831.21   |      5.70064e+06 |       2387.6    |     0.979581    |  3035.85        |     1.28464e+07 |  3584.18        |     0.953489    |\n",
            "+------------------------------------------+----------------+------------------+-----------------+-----------------+-----------------+-----------------+-----------------+-----------------+\n",
            "| NN_3_All_Weather                         |      1831.21   |      5.70064e+06 |       2387.6    |     0.979581    | 30668.4         |     1.24105e+09 | 35228.6         |    -1.73984e+12 |\n",
            "+------------------------------------------+----------------+------------------+-----------------+-----------------+-----------------+-----------------+-----------------+-----------------+\n",
            "| Your NN 3 with rotated X and all weather |        59.8805 |   7037.84        |         83.8919 |     0.999976    | 38314.2         |     1.76848e+09 | 42053.3         |    -9.01973e+11 |\n",
            "+------------------------------------------+----------------+------------------+-----------------+-----------------+-----------------+-----------------+-----------------+-----------------+\n"
          ]
        }
      ]
    },
    {
      "cell_type": "markdown",
      "source": [
        "This did not improve our model at all, our testing error is really really bad. Compared to our original NN with rotated data, the testing error was at least 100 times worse. However, when tested on our best NN, it was slightly better. This is performing very well on our training data, however the large error in the testing data shows that our model is overfitting."
      ],
      "metadata": {
        "id": "-oMX0eDMkyQh"
      }
    },
    {
      "cell_type": "markdown",
      "source": [
        "##Answer 9)"
      ],
      "metadata": {
        "id": "zeFY8WxkZqx_"
      }
    },
    {
      "cell_type": "code",
      "source": [
        "class mynetwork_10(nn.Module):\n",
        "  def __init__(self):\n",
        "    super(mynetwork_10, self).__init__()\n",
        "    self.structure = nn.Sequential(nn.Linear(160, 100), nn.LeakyReLU(), nn.Linear(100, 80), nn.ReLU(), nn.Linear(80,50), nn.LeakyReLU(), nn.Linear(50,50), nn.LeakyReLU(), nn.Linear(50,1))\n",
        "  def forward(self, x):\n",
        "    x = self.structure(x)\n",
        "    return x"
      ],
      "metadata": {
        "id": "mRRtfMeRbGZr"
      },
      "execution_count": 68,
      "outputs": []
    },
    {
      "cell_type": "code",
      "source": [
        "m = nn.Dropout(p=0.2)\n",
        "input = torch.randn(20, 16)\n",
        "output = m(input)\n",
        "\n",
        "model_10 = mynetwork_10().cuda()\n",
        "\n",
        "batch_size = 50\n",
        "num_epochs = 2000\n",
        "learning_rate = 1e-4\n",
        "criterion = nn.MSELoss()\n",
        "\n",
        "print_interval=100"
      ],
      "metadata": {
        "id": "8MvrxYMNZxEe"
      },
      "execution_count": 69,
      "outputs": []
    },
    {
      "cell_type": "code",
      "source": [
        "network_10, losses = train(rotate(XTrain), yTrain, model_10, num_epochs, learning_rate, batch_size, criterion, print_interval)"
      ],
      "metadata": {
        "colab": {
          "base_uri": "https://localhost:8080/"
        },
        "id": "VHLP5rsZa6Db",
        "outputId": "77cf10c7-7397-4c61-e6ee-57cd8ec33528"
      },
      "execution_count": 70,
      "outputs": [
        {
          "output_type": "stream",
          "name": "stdout",
          "text": [
            "epoch:  100 training loss: 2.039e+04 time:    7.5\n",
            "epoch:  200 training loss: 1.191e+04 time:   14.2\n",
            "epoch:  300 training loss: 9.553e+03 time:   21.4\n",
            "epoch:  400 training loss: 8.113e+03 time:   31.9\n",
            "epoch:  500 training loss: 9.298e+03 time:   39.1\n",
            "epoch:  600 training loss: 8.286e+03 time:   46.4\n",
            "epoch:  700 training loss: 8.695e+03 time:   53.4\n",
            "epoch:  800 training loss: 6.395e+03 time:   60.5\n",
            "epoch:  900 training loss: 7.972e+03 time:   64.6\n",
            "epoch: 1000 training loss: 6.276e+03 time:   68.6\n",
            "epoch: 1100 training loss: 8.061e+03 time:   72.6\n",
            "epoch: 1200 training loss: 6.952e+03 time:   76.5\n",
            "epoch: 1300 training loss: 6.658e+03 time:   80.9\n",
            "epoch: 1400 training loss: 7.309e+03 time:   85.0\n",
            "epoch: 1500 training loss: 6.311e+03 time:   88.9\n",
            "epoch: 1600 training loss: 5.270e+03 time:   92.9\n",
            "epoch: 1700 training loss: 5.534e+03 time:   96.9\n",
            "epoch: 1800 training loss: 7.130e+03 time:  101.0\n",
            "epoch: 1900 training loss: 6.791e+03 time:  105.1\n"
          ]
        }
      ]
    },
    {
      "cell_type": "code",
      "source": [
        "plt.plot(losses)\n",
        "plt.grid()\n",
        "plt.xlabel(\"Epoch\")\n",
        "plt.ylabel(\"Error\")\n",
        "plt.figure()"
      ],
      "metadata": {
        "colab": {
          "base_uri": "https://localhost:8080/",
          "height": 314
        },
        "id": "70rqHBaPbNcR",
        "outputId": "90a6b3fe-b102-4979-e64c-1d53a8ca31fa"
      },
      "execution_count": 71,
      "outputs": [
        {
          "output_type": "execute_result",
          "data": {
            "text/plain": [
              "<Figure size 432x288 with 0 Axes>"
            ]
          },
          "metadata": {},
          "execution_count": 71
        },
        {
          "output_type": "display_data",
          "data": {
            "text/plain": [
              "<Figure size 432x288 with 1 Axes>"
            ],
            "image/png": "[encoded data removed]"
          },
          "metadata": {
            "needs_background": "light"
          }
        },
        {
          "output_type": "display_data",
          "data": {
            "text/plain": [
              "<Figure size 432x288 with 0 Axes>"
            ]
          },
          "metadata": {}
        }
      ]
    },
    {
      "cell_type": "code",
      "source": [
        "MAE_train_nn10,MSE_train_nn10,RMSE_train_nn10,R2_train_nn10,MAE_test_nn10,MSE_test_nn10,RMSE_test_nn10,R2_test_nn10=model_eva(rotate(XTrain),rotate(XTest),yTrain,yTest,network_10)"
      ],
      "metadata": {
        "id": "RD6OgPBOarJs"
      },
      "execution_count": 72,
      "outputs": []
    },
    {
      "cell_type": "code",
      "source": [
        "results.append([\"Our NN3 with Dropout\",MAE_train_nn10,MSE_train_nn10,RMSE_train_nn10,R2_train_nn10,MAE_test_nn10,MSE_test_nn10,RMSE_test_nn10,R2_test_nn10])\n",
        "\n",
        "print (tabulate(results, headers=[\"Model\", \"Training MAE\", \"Training MSE\", \"Training RMSE\", \"Training R^2\", \"Test MAE\", \"Test MSE\", \"Test RMSE\", \"Test R^2\"],tablefmt=\"grid\"))"
      ],
      "metadata": {
        "colab": {
          "base_uri": "https://localhost:8080/"
        },
        "id": "xK8nsDcFeJkT",
        "outputId": "5a4acfd7-aeaa-41e1-d2b8-427a55322c2b"
      },
      "execution_count": 73,
      "outputs": [
        {
          "output_type": "stream",
          "name": "stdout",
          "text": [
            "+--------------------------+----------------+------------------+-----------------+-----------------+-----------------+-----------------+-----------------+-----------------+\n",
            "| Model                    |   Training MAE |     Training MSE |   Training RMSE |    Training R^2 |        Test MAE |        Test MSE |       Test RMSE |        Test R^2 |\n",
            "+==========================+================+==================+=================+=================+=================+=================+=================+=================+\n",
            "| Linear regression        |     10765.5    |      1.88684e+08 |      13736.2    |    -0.81852     |     1.27881e+06 |     1.35899e+14 |     1.16576e+07 |    -0.000280507 |\n",
            "+--------------------------+----------------+------------------+-----------------+-----------------+-----------------+-----------------+-----------------+-----------------+\n",
            "| Linear Ridge             |     14682.5    |      2.90253e+08 |      17036.8    |  -523.532       | 15361.8         |     3.11941e+08 | 17661.9         |  -633.494       |\n",
            "+--------------------------+----------------+------------------+-----------------+-----------------+-----------------+-----------------+-----------------+-----------------+\n",
            "| Linear Lasso             |     14673.4    |      2.90082e+08 |      17031.8    |  -363.127       | 15372.7         |     3.1278e+08  | 17685.6         |  -427.002       |\n",
            "+--------------------------+----------------+------------------+-----------------+-----------------+-----------------+-----------------+-----------------+-----------------+\n",
            "| Linear BayesianRidge     |     14705.9    |      2.91107e+08 |      17061.9    |    -2.80613e+15 | 15318.8         |     3.09894e+08 | 17603.8         |    -3.48914e+15 |\n",
            "+--------------------------+----------------+------------------+-----------------+-----------------+-----------------+-----------------+-----------------+-----------------+\n",
            "| NN_1                     |     39102.5    |      1.82065e+09 |      42669.1    | -1155.56        | 39042.4         |     1.83706e+09 | 42860.9         | -1232.5         |\n",
            "+--------------------------+----------------+------------------+-----------------+-----------------+-----------------+-----------------+-----------------+-----------------+\n",
            "| NN_2                     |     39928      |      1.88535e+09 |      43420.6    |    -1.64786e+10 | 39745.7         |     1.88958e+09 | 43469.3         |    -1.70635e+10 |\n",
            "+--------------------------+----------------+------------------+-----------------+-----------------+-----------------+-----------------+-----------------+-----------------+\n",
            "| NN_3                     |      1831.21   |      5.70064e+06 |       2387.6    |     0.979581    |  2359.17        |     9.47655e+06 |  3078.4         |     0.967352    |\n",
            "+--------------------------+----------------+------------------+-----------------+-----------------+-----------------+-----------------+-----------------+-----------------+\n",
            "| NN_3_sigmoid             |     39971.1    |      1.88879e+09 |      43460.2    |     0           | 39788.7         |     1.893e+09   | 43508.6         |    -3.25215e+19 |\n",
            "+--------------------------+----------------+------------------+-----------------+-----------------+-----------------+-----------------+-----------------+-----------------+\n",
            "| NN_3_relu                |      2661.72   |      1.08804e+07 |       3298.54   |     0.958419    |  3074.05        |     1.4749e+07  |  3840.45        |     0.945415    |\n",
            "+--------------------------+----------------+------------------+-----------------+-----------------+-----------------+-----------------+-----------------+-----------------+\n",
            "| Your NN 1                |      9211.46   |      1.27192e+08 |      11277.9    |    -2.22848     |  9743.35        |     1.40688e+08 | 11861.2         |    -2.54797     |\n",
            "+--------------------------+----------------+------------------+-----------------+-----------------+-----------------+-----------------+-----------------+-----------------+\n",
            "| Your NN 2                |     14688.9    |      2.90584e+08 |      17046.5    |  -526.661       | 15349.7         |     3.1126e+08  | 17642.6         |  -605.548       |\n",
            "+--------------------------+----------------+------------------+-----------------+-----------------+-----------------+-----------------+-----------------+-----------------+\n",
            "| Your NN 3                |       465.972  | 457071           |        676.07   |     0.998423    |   931.284       |     1.85399e+06 |  1361.61        |     0.993896    |\n",
            "+--------------------------+----------------+------------------+-----------------+-----------------+-----------------+-----------------+-----------------+-----------------+\n",
            "| Your NN 3 with rotated X |        62.1269 |   7500.71        |         86.6066 |     0.999974    |    81.353       | 14749.9         |   121.449       |     0.999952    |\n",
            "+--------------------------+----------------+------------------+-----------------+-----------------+-----------------+-----------------+-----------------+-----------------+\n",
            "| Our NN3 with Dropout     |      4380.47   |      3.71839e+07 |       6097.86   |     0.850578    |  4137.39        |     3.32924e+07 |  5769.95        |     0.872941    |\n",
            "+--------------------------+----------------+------------------+-----------------+-----------------+-----------------+-----------------+-----------------+-----------------+\n"
          ]
        }
      ]
    },
    {
      "cell_type": "code",
      "source": [
        "m = nn.BatchNorm1d(100)\n",
        "m = nn.BatchNorm1d(100, affine=False)\n",
        "input = torch.randn(20, 100)\n",
        "output = m(input)\n",
        "\n",
        "model_10 = mynetwork_10().cuda()\n",
        "\n",
        "batch_size = 50\n",
        "num_epochs = 2000\n",
        "learning_rate = 1e-4\n",
        "criterion = nn.MSELoss()\n",
        "\n",
        "print_interval=100"
      ],
      "metadata": {
        "id": "0yI6gCN0lYko"
      },
      "execution_count": 74,
      "outputs": []
    },
    {
      "cell_type": "code",
      "source": [
        "network_10, losses = train(rotate(XTrain), yTrain, model_10, num_epochs, learning_rate, batch_size, criterion, print_interval)"
      ],
      "metadata": {
        "colab": {
          "base_uri": "https://localhost:8080/"
        },
        "id": "JeTwo43Al2zD",
        "outputId": "6cf9a46b-e70d-4ab1-bcef-a3af9a2084da"
      },
      "execution_count": 75,
      "outputs": [
        {
          "output_type": "stream",
          "name": "stdout",
          "text": [
            "epoch:  100 training loss: 1.531e+04 time:    4.4\n",
            "epoch:  200 training loss: 1.143e+04 time:    8.4\n",
            "epoch:  300 training loss: 9.303e+03 time:   12.4\n",
            "epoch:  400 training loss: 7.964e+03 time:   16.4\n",
            "epoch:  500 training loss: 8.272e+03 time:   20.4\n",
            "epoch:  600 training loss: 9.487e+03 time:   24.4\n",
            "epoch:  700 training loss: 6.698e+03 time:   28.4\n",
            "epoch:  800 training loss: 7.871e+03 time:   32.4\n",
            "epoch:  900 training loss: 6.644e+03 time:   36.4\n",
            "epoch: 1000 training loss: 7.069e+03 time:   40.5\n",
            "epoch: 1100 training loss: 5.657e+03 time:   44.5\n",
            "epoch: 1200 training loss: 6.870e+03 time:   48.5\n",
            "epoch: 1300 training loss: 7.260e+03 time:   52.5\n",
            "epoch: 1400 training loss: 6.353e+03 time:   56.4\n",
            "epoch: 1500 training loss: 5.875e+03 time:   60.4\n",
            "epoch: 1600 training loss: 6.357e+03 time:   64.4\n",
            "epoch: 1700 training loss: 4.106e+03 time:   68.4\n",
            "epoch: 1800 training loss: 5.993e+03 time:   72.4\n",
            "epoch: 1900 training loss: 6.334e+03 time:   76.8\n"
          ]
        }
      ]
    },
    {
      "cell_type": "code",
      "source": [
        "plt.plot(losses)\n",
        "plt.grid()\n",
        "plt.xlabel(\"Epoch\")\n",
        "plt.ylabel(\"Error\")\n",
        "plt.figure()"
      ],
      "metadata": {
        "colab": {
          "base_uri": "https://localhost:8080/",
          "height": 318
        },
        "id": "Wey64HV5l5v3",
        "outputId": "437d6494-b460-40ed-dc40-488d1ef6a1b5"
      },
      "execution_count": 76,
      "outputs": [
        {
          "output_type": "execute_result",
          "data": {
            "text/plain": [
              "<Figure size 432x288 with 0 Axes>"
            ]
          },
          "metadata": {},
          "execution_count": 76
        },
        {
          "output_type": "display_data",
          "data": {
            "text/plain": [
              "<Figure size 432x288 with 1 Axes>"
            ],
            "image/png": "[encoded data removed]"
          },
          "metadata": {
            "needs_background": "light"
          }
        },
        {
          "output_type": "display_data",
          "data": {
            "text/plain": [
              "<Figure size 432x288 with 0 Axes>"
            ]
          },
          "metadata": {}
        }
      ]
    },
    {
      "cell_type": "code",
      "source": [
        "MAE_train_nn10,MSE_train_nn10,RMSE_train_nn10,R2_train_nn10,MAE_test_nn10,MSE_test_nn10,RMSE_test_nn10,R2_test_nn10=model_eva(rotate(XTrain),rotate(XTest),yTrain,yTest,network_10)"
      ],
      "metadata": {
        "id": "DUOjQaKYl-1w"
      },
      "execution_count": 77,
      "outputs": []
    },
    {
      "cell_type": "code",
      "source": [
        "results.append([\"Our NN3 with BatchNorm\",MAE_train_nn10,MSE_train_nn10,RMSE_train_nn10,R2_train_nn10,MAE_test_nn10,MSE_test_nn10,RMSE_test_nn10,R2_test_nn10])\n",
        "\n",
        "print (tabulate(results, headers=[\"Model\", \"Training MAE\", \"Training MSE\", \"Training RMSE\", \"Training R^2\", \"Test MAE\", \"Test MSE\", \"Test RMSE\", \"Test R^2\"],tablefmt=\"grid\"))"
      ],
      "metadata": {
        "colab": {
          "base_uri": "https://localhost:8080/"
        },
        "id": "66aPlYrud9R2",
        "outputId": "2bd87230-51da-4f9d-c840-6eb7de236eb9"
      },
      "execution_count": 78,
      "outputs": [
        {
          "output_type": "stream",
          "name": "stdout",
          "text": [
            "+--------------------------+----------------+------------------+-----------------+-----------------+-----------------+-----------------+-----------------+-----------------+\n",
            "| Model                    |   Training MAE |     Training MSE |   Training RMSE |    Training R^2 |        Test MAE |        Test MSE |       Test RMSE |        Test R^2 |\n",
            "+==========================+================+==================+=================+=================+=================+=================+=================+=================+\n",
            "| Linear regression        |     10765.5    |      1.88684e+08 |      13736.2    |    -0.81852     |     1.27881e+06 |     1.35899e+14 |     1.16576e+07 |    -0.000280507 |\n",
            "+--------------------------+----------------+------------------+-----------------+-----------------+-----------------+-----------------+-----------------+-----------------+\n",
            "| Linear Ridge             |     14682.5    |      2.90253e+08 |      17036.8    |  -523.532       | 15361.8         |     3.11941e+08 | 17661.9         |  -633.494       |\n",
            "+--------------------------+----------------+------------------+-----------------+-----------------+-----------------+-----------------+-----------------+-----------------+\n",
            "| Linear Lasso             |     14673.4    |      2.90082e+08 |      17031.8    |  -363.127       | 15372.7         |     3.1278e+08  | 17685.6         |  -427.002       |\n",
            "+--------------------------+----------------+------------------+-----------------+-----------------+-----------------+-----------------+-----------------+-----------------+\n",
            "| Linear BayesianRidge     |     14705.9    |      2.91107e+08 |      17061.9    |    -2.80613e+15 | 15318.8         |     3.09894e+08 | 17603.8         |    -3.48914e+15 |\n",
            "+--------------------------+----------------+------------------+-----------------+-----------------+-----------------+-----------------+-----------------+-----------------+\n",
            "| NN_1                     |     39102.5    |      1.82065e+09 |      42669.1    | -1155.56        | 39042.4         |     1.83706e+09 | 42860.9         | -1232.5         |\n",
            "+--------------------------+----------------+------------------+-----------------+-----------------+-----------------+-----------------+-----------------+-----------------+\n",
            "| NN_2                     |     39928      |      1.88535e+09 |      43420.6    |    -1.64786e+10 | 39745.7         |     1.88958e+09 | 43469.3         |    -1.70635e+10 |\n",
            "+--------------------------+----------------+------------------+-----------------+-----------------+-----------------+-----------------+-----------------+-----------------+\n",
            "| NN_3                     |      1831.21   |      5.70064e+06 |       2387.6    |     0.979581    |  2359.17        |     9.47655e+06 |  3078.4         |     0.967352    |\n",
            "+--------------------------+----------------+------------------+-----------------+-----------------+-----------------+-----------------+-----------------+-----------------+\n",
            "| NN_3_sigmoid             |     39971.1    |      1.88879e+09 |      43460.2    |     0           | 39788.7         |     1.893e+09   | 43508.6         |    -3.25215e+19 |\n",
            "+--------------------------+----------------+------------------+-----------------+-----------------+-----------------+-----------------+-----------------+-----------------+\n",
            "| NN_3_relu                |      2661.72   |      1.08804e+07 |       3298.54   |     0.958419    |  3074.05        |     1.4749e+07  |  3840.45        |     0.945415    |\n",
            "+--------------------------+----------------+------------------+-----------------+-----------------+-----------------+-----------------+-----------------+-----------------+\n",
            "| Your NN 1                |      9211.46   |      1.27192e+08 |      11277.9    |    -2.22848     |  9743.35        |     1.40688e+08 | 11861.2         |    -2.54797     |\n",
            "+--------------------------+----------------+------------------+-----------------+-----------------+-----------------+-----------------+-----------------+-----------------+\n",
            "| Your NN 2                |     14688.9    |      2.90584e+08 |      17046.5    |  -526.661       | 15349.7         |     3.1126e+08  | 17642.6         |  -605.548       |\n",
            "+--------------------------+----------------+------------------+-----------------+-----------------+-----------------+-----------------+-----------------+-----------------+\n",
            "| Your NN 3                |       465.972  | 457071           |        676.07   |     0.998423    |   931.284       |     1.85399e+06 |  1361.61        |     0.993896    |\n",
            "+--------------------------+----------------+------------------+-----------------+-----------------+-----------------+-----------------+-----------------+-----------------+\n",
            "| Your NN 3 with rotated X |        62.1269 |   7500.71        |         86.6066 |     0.999974    |    81.353       | 14749.9         |   121.449       |     0.999952    |\n",
            "+--------------------------+----------------+------------------+-----------------+-----------------+-----------------+-----------------+-----------------+-----------------+\n",
            "| Our NN3 with Dropout     |      4380.47   |      3.71839e+07 |       6097.86   |     0.850578    |  4137.39        |     3.32924e+07 |  5769.95        |     0.872941    |\n",
            "+--------------------------+----------------+------------------+-----------------+-----------------+-----------------+-----------------+-----------------+-----------------+\n",
            "| Our NN3 with BatchNorm   |      4244.21   |      3.53999e+07 |       5949.78   |     0.858311    |  4021.48        |     3.1947e+07  |  5652.17        |     0.87843     |\n",
            "+--------------------------+----------------+------------------+-----------------+-----------------+-----------------+-----------------+-----------------+-----------------+\n"
          ]
        }
      ]
    }
  ]
}